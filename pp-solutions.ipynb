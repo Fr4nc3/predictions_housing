{
 "cells": [
  {
   "cell_type": "markdown",
   "metadata": {},
   "source": [
    "Price Predictions"
   ]
  },
  {
   "cell_type": "markdown",
   "metadata": {},
   "source": [
    "PP create model\n",
    "\n",
    "**IMPORTANT: Make sure you do not skip any cells. In that case you risk not being able to accomplish given tasks.** \n"
   ]
  },
  {
   "cell_type": "code",
   "execution_count": 1,
   "metadata": {},
   "outputs": [],
   "source": [
    "import warnings\n",
    "warnings.filterwarnings('ignore')"
   ]
  },
  {
   "cell_type": "markdown",
   "metadata": {},
   "source": [
    "## Price Predictions Data Cleaning "
   ]
  },
  {
   "cell_type": "code",
   "execution_count": 2,
   "metadata": {},
   "outputs": [],
   "source": [
    "#Price Predictions dataset merged with the folow entries\n",
    "\n",
    "# 483737 train.csv\n",
    "#  21257 test.csv"
   ]
  },
  {
   "cell_type": "code",
   "execution_count": 3,
   "metadata": {},
   "outputs": [
    {
     "name": "stdout",
     "output_type": "stream",
     "text": [
      "/Users/friesco/.local/share/virtualenvs/pp-sandbox-KSKYKDwW/bin/python\n"
     ]
    }
   ],
   "source": [
    "import sys\n",
    "print(sys.executable) #check if your jupyter is running from right env"
   ]
  },
  {
   "cell_type": "markdown",
   "metadata": {
    "_cell_guid": "dd08db0b-3c0e-4a12-b77d-348b430b33d7",
    "_uuid": "82658364a5412b45f3c1bdba11c0bc17a7a9105b"
   },
   "source": [
    "### Load libraries and data"
   ]
  },
  {
   "cell_type": "code",
   "execution_count": 4,
   "metadata": {
    "_cell_guid": "acc6733e-b0f0-4d08-bd45-d50881091212",
    "_uuid": "511329117440698529039824b10aed63cf457722"
   },
   "outputs": [],
   "source": [
    "# NumPy for numerical computing\n",
    "import numpy as np\n",
    "\n",
    "# Pandas for DataFrames\n",
    "import pandas as pd\n",
    "from pandas import DataFrame\n",
    "from pandas import Grouper as TimeGrouper\n",
    "\n",
    "# Matplotlib for visualization\n",
    "from matplotlib import pyplot as plt\n",
    "\n",
    "# Display plots in the notebook\n",
    "%matplotlib inline \n",
    "\n",
    "# Seaborn for easier visualization\n",
    "import seaborn as sns"
   ]
  },
  {
   "cell_type": "code",
   "execution_count": 5,
   "metadata": {
    "_cell_guid": "0a97eeb3-097f-45a3-8ebf-6309e6bcd0cc",
    "_uuid": "aadc7b21d040e576b32b8d0c5e5fd2dd5e22eedd"
   },
   "outputs": [
    {
     "data": {
      "text/html": [
       "<div>\n",
       "<style scoped>\n",
       "    .dataframe tbody tr th:only-of-type {\n",
       "        vertical-align: middle;\n",
       "    }\n",
       "\n",
       "    .dataframe tbody tr th {\n",
       "        vertical-align: top;\n",
       "    }\n",
       "\n",
       "    .dataframe thead th {\n",
       "        text-align: right;\n",
       "    }\n",
       "</style>\n",
       "<table border=\"1\" class=\"dataframe\">\n",
       "  <thead>\n",
       "    <tr style=\"text-align: right;\">\n",
       "      <th></th>\n",
       "      <th>mlsnum</th>\n",
       "      <th>status</th>\n",
       "      <th>listprice</th>\n",
       "      <th>soldprice</th>\n",
       "      <th>listdate</th>\n",
       "      <th>solddate</th>\n",
       "      <th>expireddate</th>\n",
       "      <th>dom</th>\n",
       "      <th>dto</th>\n",
       "      <th>address</th>\n",
       "      <th>...</th>\n",
       "      <th>elementaryschool</th>\n",
       "      <th>juniorhighschool</th>\n",
       "      <th>highschool</th>\n",
       "      <th>otherfeatures</th>\n",
       "      <th>proptype</th>\n",
       "      <th>streetname</th>\n",
       "      <th>housenum1</th>\n",
       "      <th>housenum2</th>\n",
       "      <th>photourl</th>\n",
       "      <th>row_id</th>\n",
       "    </tr>\n",
       "  </thead>\n",
       "  <tbody>\n",
       "    <tr>\n",
       "      <th>0</th>\n",
       "      <td>72250837</td>\n",
       "      <td>72250837</td>\n",
       "      <td>249900.0</td>\n",
       "      <td>NaN</td>\n",
       "      <td>NaN</td>\n",
       "      <td>11/2/2017</td>\n",
       "      <td>NaN</td>\n",
       "      <td>110</td>\n",
       "      <td>NaN</td>\n",
       "      <td>10 Cove Road</td>\n",
       "      <td>...</td>\n",
       "      <td>NaN</td>\n",
       "      <td>NaN</td>\n",
       "      <td>NaN</td>\n",
       "      <td>Basement:Yes;Fireplaces:0;Roof:Asphalt/Fibergl...</td>\n",
       "      <td>SF</td>\n",
       "      <td>SF</td>\n",
       "      <td>NaN</td>\n",
       "      <td>10.0</td>\n",
       "      <td>10</td>\n",
       "      <td>7a93a522-3ce1-11ec-be06-acde48001122</td>\n",
       "    </tr>\n",
       "    <tr>\n",
       "      <th>1</th>\n",
       "      <td>72097812</td>\n",
       "      <td>72097812</td>\n",
       "      <td>589900.0</td>\n",
       "      <td>NaN</td>\n",
       "      <td>NaN</td>\n",
       "      <td>11/21/2016</td>\n",
       "      <td>NaN</td>\n",
       "      <td>456</td>\n",
       "      <td>NaN</td>\n",
       "      <td>2 HUMMINGBIRD LANE</td>\n",
       "      <td>...</td>\n",
       "      <td>NaN</td>\n",
       "      <td>NaN</td>\n",
       "      <td>NaN</td>\n",
       "      <td>Basement:Yes;Fireplaces:1;Roof:--;Floor:Tile, ...</td>\n",
       "      <td>SF</td>\n",
       "      <td>SF</td>\n",
       "      <td>NaN</td>\n",
       "      <td>2.0</td>\n",
       "      <td>2</td>\n",
       "      <td>7a93a6da-3ce1-11ec-be06-acde48001122</td>\n",
       "    </tr>\n",
       "    <tr>\n",
       "      <th>2</th>\n",
       "      <td>72255021</td>\n",
       "      <td>72255021</td>\n",
       "      <td>299000.0</td>\n",
       "      <td>NaN</td>\n",
       "      <td>NaN</td>\n",
       "      <td>11/13/2017</td>\n",
       "      <td>NaN</td>\n",
       "      <td>99</td>\n",
       "      <td>NaN</td>\n",
       "      <td>130 Farm Lane</td>\n",
       "      <td>...</td>\n",
       "      <td>NaN</td>\n",
       "      <td>NaN</td>\n",
       "      <td>NaN</td>\n",
       "      <td>Basement:Yes;Fireplaces:0;Roof:Asphalt/Fibergl...</td>\n",
       "      <td>SF</td>\n",
       "      <td>SF</td>\n",
       "      <td>NaN</td>\n",
       "      <td>130.0</td>\n",
       "      <td>130</td>\n",
       "      <td>7a93a734-3ce1-11ec-be06-acde48001122</td>\n",
       "    </tr>\n",
       "    <tr>\n",
       "      <th>3</th>\n",
       "      <td>72215404</td>\n",
       "      <td>72215404</td>\n",
       "      <td>219900.0</td>\n",
       "      <td>NaN</td>\n",
       "      <td>NaN</td>\n",
       "      <td>8/17/2017</td>\n",
       "      <td>NaN</td>\n",
       "      <td>211</td>\n",
       "      <td>NaN</td>\n",
       "      <td>124 Beech St</td>\n",
       "      <td>...</td>\n",
       "      <td>NaN</td>\n",
       "      <td>NaN</td>\n",
       "      <td>NaN</td>\n",
       "      <td>NaN</td>\n",
       "      <td>MF</td>\n",
       "      <td>MF</td>\n",
       "      <td>NaN</td>\n",
       "      <td>124.0</td>\n",
       "      <td>124</td>\n",
       "      <td>7a93a838-3ce1-11ec-be06-acde48001122</td>\n",
       "    </tr>\n",
       "    <tr>\n",
       "      <th>4</th>\n",
       "      <td>72245726</td>\n",
       "      <td>72245726</td>\n",
       "      <td>169900.0</td>\n",
       "      <td>NaN</td>\n",
       "      <td>NaN</td>\n",
       "      <td>10/20/2017</td>\n",
       "      <td>NaN</td>\n",
       "      <td>123</td>\n",
       "      <td>NaN</td>\n",
       "      <td>6 Harvey Lane</td>\n",
       "      <td>...</td>\n",
       "      <td>NaN</td>\n",
       "      <td>NaN</td>\n",
       "      <td>NaN</td>\n",
       "      <td>Basement:Yes;Fireplaces:0;Roof:Asphalt/Fibergl...</td>\n",
       "      <td>SF</td>\n",
       "      <td>SF</td>\n",
       "      <td>NaN</td>\n",
       "      <td>6.0</td>\n",
       "      <td>6</td>\n",
       "      <td>7a93a9a0-3ce1-11ec-be06-acde48001122</td>\n",
       "    </tr>\n",
       "  </tbody>\n",
       "</table>\n",
       "<p>5 rows × 39 columns</p>\n",
       "</div>"
      ],
      "text/plain": [
       "     mlsnum    status listprice soldprice listdate    solddate expireddate  \\\n",
       "0  72250837  72250837  249900.0       NaN      NaN   11/2/2017         NaN   \n",
       "1  72097812  72097812  589900.0       NaN      NaN  11/21/2016         NaN   \n",
       "2  72255021  72255021  299000.0       NaN      NaN  11/13/2017         NaN   \n",
       "3  72215404  72215404  219900.0       NaN      NaN   8/17/2017         NaN   \n",
       "4  72245726  72245726  169900.0       NaN      NaN  10/20/2017         NaN   \n",
       "\n",
       "   dom  dto             address  ... elementaryschool juniorhighschool  \\\n",
       "0  110  NaN        10 Cove Road  ...              NaN              NaN   \n",
       "1  456  NaN  2 HUMMINGBIRD LANE  ...              NaN              NaN   \n",
       "2   99  NaN       130 Farm Lane  ...              NaN              NaN   \n",
       "3  211  NaN        124 Beech St  ...              NaN              NaN   \n",
       "4  123  NaN       6 Harvey Lane  ...              NaN              NaN   \n",
       "\n",
       "  highschool                                      otherfeatures  proptype  \\\n",
       "0        NaN  Basement:Yes;Fireplaces:0;Roof:Asphalt/Fibergl...        SF   \n",
       "1        NaN  Basement:Yes;Fireplaces:1;Roof:--;Floor:Tile, ...        SF   \n",
       "2        NaN  Basement:Yes;Fireplaces:0;Roof:Asphalt/Fibergl...        SF   \n",
       "3        NaN                                                NaN        MF   \n",
       "4        NaN  Basement:Yes;Fireplaces:0;Roof:Asphalt/Fibergl...        SF   \n",
       "\n",
       "   streetname  housenum1 housenum2 photourl  \\\n",
       "0          SF        NaN      10.0       10   \n",
       "1          SF        NaN       2.0        2   \n",
       "2          SF        NaN     130.0      130   \n",
       "3          MF        NaN     124.0      124   \n",
       "4          SF        NaN       6.0        6   \n",
       "\n",
       "                                 row_id  \n",
       "0  7a93a522-3ce1-11ec-be06-acde48001122  \n",
       "1  7a93a6da-3ce1-11ec-be06-acde48001122  \n",
       "2  7a93a734-3ce1-11ec-be06-acde48001122  \n",
       "3  7a93a838-3ce1-11ec-be06-acde48001122  \n",
       "4  7a93a9a0-3ce1-11ec-be06-acde48001122  \n",
       "\n",
       "[5 rows x 39 columns]"
      ]
     },
     "execution_count": 5,
     "metadata": {},
     "output_type": "execute_result"
    }
   ],
   "source": [
    "# Load data from CSV\n",
    "train_dataset = pd.read_csv(\"static/data/train.csv\", dtype={'zip':'category', 'mlsnum':'string', 'proptype':'string'})\n",
    "test = pd.read_csv(\"static/data/test.csv\",  dtype={'zip':'category', 'mlsnum':'string','proptype':'string'})\n",
    "\n",
    "train_dataset.head()"
   ]
  },
  {
   "cell_type": "code",
   "execution_count": 6,
   "metadata": {},
   "outputs": [
    {
     "name": "stdout",
     "output_type": "stream",
     "text": [
      "<StringArray>\n",
      "['CC', 'MF', 'SF', 'EXT']\n",
      "Length: 4, dtype: string\n",
      "<StringArray>\n",
      "['SF', 'MF', 'CC', 'EXT']\n",
      "Length: 4, dtype: string\n"
     ]
    }
   ],
   "source": [
    "print(test.proptype.unique())\n",
    "print(train_dataset.proptype.unique())"
   ]
  },
  {
   "cell_type": "code",
   "execution_count": 7,
   "metadata": {},
   "outputs": [],
   "source": [
    "# print(test.columns)\n",
    "# print(len(test.columns))"
   ]
  },
  {
   "cell_type": "code",
   "execution_count": 9,
   "metadata": {},
   "outputs": [
    {
     "name": "stdout",
     "output_type": "stream",
     "text": [
      "['otherfeatures', 'status', 'solddate', 'city', 'showinginstructions', 'garage', 'address', 'agentname', 'listdate', 'cooling', 'dom', 'soldprice', 'level', 'housenum1', 'mlsnum', 'baths', 'officename', 'style', 'expireddate', 'area', 'elementaryschool', 'zip', 'sqft', 'officephone', 'listprice', 'beds', 'highschool', 'heating', 'juniorhighschool', 'dto', 'age', 'remarks', 'photourl', 'row_id', 'proptype', 'state', 'streetname', 'housenum2', 'lotsize']\n",
      "39\n"
     ]
    },
    {
     "data": {
      "text/plain": [
       "[]"
      ]
     },
     "execution_count": 9,
     "metadata": {},
     "output_type": "execute_result"
    }
   ],
   "source": [
    "list1_as_set = set(train_dataset.columns)\n",
    "intersection = list1_as_set.intersection(test.columns)\n",
    "intersection_as_list = list(intersection)\n",
    "print(intersection_as_list)\n",
    "print(len(intersection_as_list))\n",
    "drop_list = list(set(list1_as_set) - set(test.columns))\n",
    "drop_list"
   ]
  },
  {
   "cell_type": "code",
   "execution_count": 10,
   "metadata": {},
   "outputs": [],
   "source": [
    "train_dataset['zip'] = train_dataset['zip'].astype(str).str.zfill(5)\n",
    "test['zip'] = test['zip'].astype(str).str.zfill(5)\n",
    "train_dataset['mlsnum'] = train_dataset['mlsnum'].astype(str).str.zfill(5)\n",
    "test['mlsnum'] = test['mlsnum'].astype(str).str.zfill(5)"
   ]
  },
  {
   "cell_type": "code",
   "execution_count": 12,
   "metadata": {},
   "outputs": [
    {
     "data": {
      "text/plain": [
       "((500468, 39), (13346, 39))"
      ]
     },
     "execution_count": 12,
     "metadata": {},
     "output_type": "execute_result"
    }
   ],
   "source": [
    "# YOUR CODE GOES HERE\n",
    "# Chech out the shape of the datasets. \n",
    "# We have a lot of data observations to play around.\n",
    "\n",
    "train_dataset.shape, test.shape"
   ]
  },
  {
   "cell_type": "markdown",
   "metadata": {},
   "source": [
    "Take a look and understand different data types."
   ]
  },
  {
   "cell_type": "code",
   "execution_count": 13,
   "metadata": {
    "_cell_guid": "99a7f662-57af-477a-a23c-3bfcf7ae5513",
    "_uuid": "7c499cc55c5007b8f58f5a5e1e5c64917286ff3e"
   },
   "outputs": [],
   "source": [
    "# Column datatypes\n",
    "# print(train_dataset.dtypes,'\\n')\n",
    "# print(test.dtypes)"
   ]
  },
  {
   "cell_type": "markdown",
   "metadata": {
    "_cell_guid": "453b25d1-f99c-4b13-8310-df4f736e5c6b",
    "_uuid": "62794228d5ba90099fdc5ce2f75cc31d89708258"
   },
   "source": [
    "### Drop unwanted observations"
   ]
  },
  {
   "cell_type": "markdown",
   "metadata": {},
   "source": [
    "Our goal during the data cleaning phase is to fix any problems with the provided data sets, such as:\n",
    "\n",
    "- Fix inconsistent data\n",
    "- Replace missing data with reasonable values\n",
    "- Remove Data that cannot be fixed\n",
    "- Convert categorical variables to numeric values\n",
    "- Check for outlying values, and correct them if necessary\n",
    "\n",
    "We needed to fix these types of problems so that our prediction models could be fit as accurately as possible."
   ]
  },
  {
   "cell_type": "code",
   "execution_count": 14,
   "metadata": {
    "_cell_guid": "0b3e01b4-8d51-4029-8f29-40a89d95508b",
    "_uuid": "5c2634eec6e5b995d822ffbd09724dad67b003d5"
   },
   "outputs": [
    {
     "data": {
      "text/plain": [
       "((500468, 39), (13346, 39))"
      ]
     },
     "execution_count": 14,
     "metadata": {},
     "output_type": "execute_result"
    }
   ],
   "source": [
    "# Check for duplicates\n",
    "train_dataset = train_dataset.drop_duplicates()\n",
    "test = test.drop_duplicates()\n",
    "\n",
    "# Print shape after removing duplicates\n",
    "train_dataset.shape, test.shape"
   ]
  },
  {
   "cell_type": "markdown",
   "metadata": {},
   "source": [
    "There were no duplicates. Now, let us check closed stores, stores with no customers, and stores where sales values equals zero."
   ]
  },
  {
   "cell_type": "code",
   "execution_count": 15,
   "metadata": {},
   "outputs": [],
   "source": [
    "# your code\n",
    "# your result shoud look like this: \n",
    "\n",
    "# train_dataset.mlsnum.fillna(0, inplace=true)\n",
    "# train_dataset.status.fillna(0, inplace=true)\n",
    "train_dataset.listprice.fillna(0, inplace=True)\n",
    "#train_dataset.soldprice.fillna(0, inplace=true)\n",
    "# train_dataset.listdate.fillna(0, inplace=true)\n",
    "# train_dataset.solddate.fillna(0, inplace=true)\n",
    "# train_dataset.expireddate.fillna(0, inplace=true)\n",
    "# train_dataset.dom.fillna(0, inplace=true)\n",
    "# train_dataset.dto.fillna(0, inplace=true)\n",
    "# train_dataset.address.fillna(0, inplace=true)\n",
    "# train_dataset.city.fillna(0, inplace=true)\n",
    "# train_dataset.state.fillna(0, inplace=true)\n",
    "# train_dataset.zip.fillna(\"\", inplace=true)\n",
    "train_dataset.area.fillna(0, inplace=True)\n",
    "train_dataset.beds.fillna(0, inplace=True)\n",
    "train_dataset.baths.fillna(0, inplace=True)\n",
    "# train_dataset.sqft.fillna(0, inplace=true)\n",
    "# train_dataset.age.fillna(0, inplace=true)\n",
    "train_dataset.lotsize.fillna(0, inplace=True)\n",
    "# train_dataset.agentname.fillna(0, inplace=true)\n",
    "# train_dataset.officename.fillna(0, inplace=true)\n",
    "# train_dataset.officephone.fillna(0, inplace=true)\n",
    "# train_dataset.showinginstructions.fillna(0, inplace=true)\n",
    "# train_dataset.remarks.fillna(0, inplace=true)\n",
    "# train_dataset.style.fillna(0, inplace=true)\n",
    "# train_dataset.level.fillna(0, inplace=true)\n",
    "# train_dataset.garage.fillna(0, inplace=true)\n",
    "# train_dataset.heating.fillna(0, inplace=true)\n",
    "# train_dataset.cooling.fillna(0, inplace=true)\n",
    "# train_dataset.elementaryschool.fillna(0, inplace=true)\n",
    "# train_dataset.juniorhighschool.fillna(0, inplace=true)\n",
    "# train_dataset.highschool.fillna(0, inplace=true)\n",
    "# train_dataset.otherfeatures.fillna(0, inplace=true)\n",
    "# train_dataset.proptype.fillna(0, inplace=true)\n",
    "# train_dataset.streetname.fillna(0, inplace=true)\n",
    "# train_dataset.housenum1.fillna(0, inplace=true)\n",
    "# train_dataset.housenum2.fillna(0, inplace=true)\n",
    "# train_dataset.photourl.fillna(0, inplace=true)\n",
    "\n",
    "# test.mlsnum.fillna(0, inplace=true)\n",
    "#test.listprice.fillna(0, inplace=true)\n",
    "# test.listdate.fillna(0, inplace=true)\n",
    "# test.address.fillna(0, inplace=true)\n",
    "# test.city.fillna(0, inplace=true)\n",
    "# test.state.fillna(0, inplace=true)\n",
    "test.zip.fillna(\"\", inplace=True)\n",
    "# test.area.fillna(0, inplace=true)\n",
    "test.beds.fillna(0, inplace=True)\n",
    "test.baths.fillna(0, inplace=True)\n",
    "# test.sqft.fillna(0, inplace=true)\n",
    "# test.age.fillna(0, inplace=true)\n",
    "test.lotsize.fillna(0, inplace=True)\n",
    "# test.agentname.fillna(0, inplace=true)\n",
    "# test.officename.fillna(0, inplace=true)\n",
    "# test.officephone.fillna(0, inplace=true)\n",
    "# test.showinginstructions.fillna(0, inplace=true)\n",
    "# test.remarks.fillna(0, inplace=true)\n",
    "# test.style.fillna(0, inplace=true)\n",
    "# test.level.fillna(0, inplace=true)\n",
    "# test.garage.fillna(0, inplace=true)\n",
    "# test.heating.fillna(0, inplace=true)\n",
    "# test.cooling.fillna(0, inplace=true)\n",
    "# test.elementaryschool.fillna(0, inplace=true)\n",
    "# test.juniorhighschool.fillna(0, inplace=true)\n",
    "# test.highschool.fillna(0, inplace=true)\n",
    "# test.otherfeatures.fillna(0, inplace=true)\n",
    "# test.proptype.fillna(0, inplace=true)\n",
    "# test.streetname.fillna(0, inplace=true)\n",
    "# test.housenum1.fillna(0, inplace=true)\n",
    "# test.housenum2.fillna(0, inplace=true)\n",
    "# test.photourl.fillna(0, inplace=true)"
   ]
  },
  {
   "cell_type": "code",
   "execution_count": 16,
   "metadata": {
    "_cell_guid": "56e7d8b2-d9c0-4bba-9e38-b63fcb601814",
    "_uuid": "1d340477c6f43609eba155140b5f573ed21d6629"
   },
   "outputs": [
    {
     "name": "stdout",
     "output_type": "stream",
     "text": [
      "mlsnum                      0\n",
      "status                      0\n",
      "listprice                   0\n",
      "soldprice              336728\n",
      "listdate               267862\n",
      "solddate                68866\n",
      "expireddate            364381\n",
      "dto                    280399\n",
      "address                     0\n",
      "city                        0\n",
      "state                       0\n",
      "zip                         0\n",
      "area                        0\n",
      "age                         1\n",
      "lotsize                     0\n",
      "agentname                   0\n",
      "officename                  0\n",
      "officephone                 0\n",
      "showinginstructions         0\n",
      "remarks                   384\n",
      "style                   45648\n",
      "level                  166667\n",
      "garage                      3\n",
      "heating                 45664\n",
      "cooling                500445\n",
      "elementaryschool       327954\n",
      "juniorhighschool       326983\n",
      "highschool             308758\n",
      "otherfeatures           45645\n",
      "streetname                 26\n",
      "photourl                  112\n",
      "row_id                      0\n",
      "dtype: int64 \n",
      "\n",
      "mlsnum                     0\n",
      "listdate                   0\n",
      "address                    0\n",
      "city                       0\n",
      "state                      0\n",
      "zip                        0\n",
      "area                   10295\n",
      "lotsize                    0\n",
      "agentname                  0\n",
      "officename                 0\n",
      "officephone                0\n",
      "showinginstructions        0\n",
      "remarks                   57\n",
      "style                   2098\n",
      "level                   5192\n",
      "heating                 2099\n",
      "cooling                13343\n",
      "elementaryschool        9455\n",
      "juniorhighschool        9394\n",
      "highschool              8885\n",
      "otherfeatures           2098\n",
      "streetname                 0\n",
      "photourl                  16\n",
      "row_id                     0\n",
      "dtype: int64\n"
     ]
    }
   ],
   "source": [
    "print(train_dataset.select_dtypes(include=['object']).isnull().sum(), '\\n')\n",
    "print(test.select_dtypes(include=['object']).isnull().sum())"
   ]
  },
  {
   "cell_type": "code",
   "execution_count": 17,
   "metadata": {
    "_cell_guid": "cda420c2-f470-445f-89b6-fe8418290e96",
    "_uuid": "4761b8839c6356a1bd54d816965d7b9c79b7287b"
   },
   "outputs": [
    {
     "data": {
      "text/plain": [
       "(13346, 39)"
      ]
     },
     "execution_count": 17,
     "metadata": {},
     "output_type": "execute_result"
    }
   ],
   "source": [
    "test.shape"
   ]
  },
  {
   "cell_type": "code",
   "execution_count": 18,
   "metadata": {},
   "outputs": [
    {
     "data": {
      "text/html": [
       "<div>\n",
       "<style scoped>\n",
       "    .dataframe tbody tr th:only-of-type {\n",
       "        vertical-align: middle;\n",
       "    }\n",
       "\n",
       "    .dataframe tbody tr th {\n",
       "        vertical-align: top;\n",
       "    }\n",
       "\n",
       "    .dataframe thead th {\n",
       "        text-align: right;\n",
       "    }\n",
       "</style>\n",
       "<table border=\"1\" class=\"dataframe\">\n",
       "  <thead>\n",
       "    <tr style=\"text-align: right;\">\n",
       "      <th></th>\n",
       "      <th>mlsnum</th>\n",
       "      <th>status</th>\n",
       "      <th>listprice</th>\n",
       "      <th>soldprice</th>\n",
       "      <th>listdate</th>\n",
       "      <th>solddate</th>\n",
       "      <th>expireddate</th>\n",
       "      <th>dom</th>\n",
       "      <th>dto</th>\n",
       "      <th>address</th>\n",
       "      <th>...</th>\n",
       "      <th>elementaryschool</th>\n",
       "      <th>juniorhighschool</th>\n",
       "      <th>highschool</th>\n",
       "      <th>otherfeatures</th>\n",
       "      <th>proptype</th>\n",
       "      <th>streetname</th>\n",
       "      <th>housenum1</th>\n",
       "      <th>housenum2</th>\n",
       "      <th>photourl</th>\n",
       "      <th>row_id</th>\n",
       "    </tr>\n",
       "  </thead>\n",
       "  <tbody>\n",
       "    <tr>\n",
       "      <th>0</th>\n",
       "      <td>71759726</td>\n",
       "      <td>1</td>\n",
       "      <td>589000</td>\n",
       "      <td>NaN</td>\n",
       "      <td>10/21/2014</td>\n",
       "      <td>NaN</td>\n",
       "      <td>NaN</td>\n",
       "      <td>NaN</td>\n",
       "      <td>NaN</td>\n",
       "      <td>7 Russell Street</td>\n",
       "      <td>...</td>\n",
       "      <td>NaN</td>\n",
       "      <td>NaN</td>\n",
       "      <td>NaN</td>\n",
       "      <td>Basement:No;Fireplaces:1;Roof:Asphalt/Fibergla...</td>\n",
       "      <td>CC</td>\n",
       "      <td>Russell Street</td>\n",
       "      <td>7.0</td>\n",
       "      <td>7.0</td>\n",
       "      <td>http://media.mlspin.com/photo.aspx?mls=71759726</td>\n",
       "      <td>8a18290a-3ce1-11ec-be06-acde48001122</td>\n",
       "    </tr>\n",
       "    <tr>\n",
       "      <th>1</th>\n",
       "      <td>71759731</td>\n",
       "      <td>2</td>\n",
       "      <td>659000</td>\n",
       "      <td>NaN</td>\n",
       "      <td>10/21/2014</td>\n",
       "      <td>NaN</td>\n",
       "      <td>NaN</td>\n",
       "      <td>NaN</td>\n",
       "      <td>NaN</td>\n",
       "      <td>7 Russell Street</td>\n",
       "      <td>...</td>\n",
       "      <td>NaN</td>\n",
       "      <td>NaN</td>\n",
       "      <td>NaN</td>\n",
       "      <td>Basement:No;Fireplaces:1;Roof:Asphalt/Fibergla...</td>\n",
       "      <td>CC</td>\n",
       "      <td>Russell Street</td>\n",
       "      <td>7.0</td>\n",
       "      <td>7.0</td>\n",
       "      <td>http://media.mlspin.com/photo.aspx?mls=71759731</td>\n",
       "      <td>8a182cca-3ce1-11ec-be06-acde48001122</td>\n",
       "    </tr>\n",
       "    <tr>\n",
       "      <th>2</th>\n",
       "      <td>71783046</td>\n",
       "      <td>3</td>\n",
       "      <td>294900</td>\n",
       "      <td>NaN</td>\n",
       "      <td>1/12/2015</td>\n",
       "      <td>NaN</td>\n",
       "      <td>NaN</td>\n",
       "      <td>NaN</td>\n",
       "      <td>NaN</td>\n",
       "      <td>1 Junction Station</td>\n",
       "      <td>...</td>\n",
       "      <td>Woodland</td>\n",
       "      <td>Powdermill</td>\n",
       "      <td>Swk Tolland</td>\n",
       "      <td>Basement:Yes;Fireplaces:0;Roof:Asphalt/Fibergl...</td>\n",
       "      <td>CC</td>\n",
       "      <td>Junction Station</td>\n",
       "      <td>1.0</td>\n",
       "      <td>1.0</td>\n",
       "      <td>http://media.mlspin.com/photo.aspx?mls=71783046</td>\n",
       "      <td>8a182d06-3ce1-11ec-be06-acde48001122</td>\n",
       "    </tr>\n",
       "    <tr>\n",
       "      <th>3</th>\n",
       "      <td>71783100</td>\n",
       "      <td>4</td>\n",
       "      <td>235000</td>\n",
       "      <td>NaN</td>\n",
       "      <td>1/12/2015</td>\n",
       "      <td>NaN</td>\n",
       "      <td>NaN</td>\n",
       "      <td>NaN</td>\n",
       "      <td>NaN</td>\n",
       "      <td>12 Hesston Ter</td>\n",
       "      <td>...</td>\n",
       "      <td>NaN</td>\n",
       "      <td>NaN</td>\n",
       "      <td>NaN</td>\n",
       "      <td>Basement:Yes;Fireplaces:0;Roof:--;Floor:--;App...</td>\n",
       "      <td>CC</td>\n",
       "      <td>Hesston Ter</td>\n",
       "      <td>12.0</td>\n",
       "      <td>12.0</td>\n",
       "      <td>http://media.mlspin.com/photo.aspx?mls=71783100</td>\n",
       "      <td>8a182d24-3ce1-11ec-be06-acde48001122</td>\n",
       "    </tr>\n",
       "    <tr>\n",
       "      <th>4</th>\n",
       "      <td>71794633</td>\n",
       "      <td>5</td>\n",
       "      <td>619000</td>\n",
       "      <td>NaN</td>\n",
       "      <td>2/23/2015</td>\n",
       "      <td>NaN</td>\n",
       "      <td>NaN</td>\n",
       "      <td>NaN</td>\n",
       "      <td>NaN</td>\n",
       "      <td>7 Russell Street</td>\n",
       "      <td>...</td>\n",
       "      <td>NaN</td>\n",
       "      <td>NaN</td>\n",
       "      <td>NaN</td>\n",
       "      <td>Basement:No;Fireplaces:1;Roof:Asphalt/Fibergla...</td>\n",
       "      <td>CC</td>\n",
       "      <td>Russell Street</td>\n",
       "      <td>7.0</td>\n",
       "      <td>7.0</td>\n",
       "      <td>http://media.mlspin.com/photo.aspx?mls=71794633</td>\n",
       "      <td>8a182d42-3ce1-11ec-be06-acde48001122</td>\n",
       "    </tr>\n",
       "  </tbody>\n",
       "</table>\n",
       "<p>5 rows × 39 columns</p>\n",
       "</div>"
      ],
      "text/plain": [
       "     mlsnum  status  listprice  soldprice    listdate  solddate  expireddate  \\\n",
       "0  71759726       1     589000        NaN  10/21/2014       NaN          NaN   \n",
       "1  71759731       2     659000        NaN  10/21/2014       NaN          NaN   \n",
       "2  71783046       3     294900        NaN   1/12/2015       NaN          NaN   \n",
       "3  71783100       4     235000        NaN   1/12/2015       NaN          NaN   \n",
       "4  71794633       5     619000        NaN   2/23/2015       NaN          NaN   \n",
       "\n",
       "   dom  dto             address  ... elementaryschool juniorhighschool  \\\n",
       "0  NaN  NaN    7 Russell Street  ...              NaN              NaN   \n",
       "1  NaN  NaN    7 Russell Street  ...              NaN              NaN   \n",
       "2  NaN  NaN  1 Junction Station  ...         Woodland       Powdermill   \n",
       "3  NaN  NaN      12 Hesston Ter  ...              NaN              NaN   \n",
       "4  NaN  NaN    7 Russell Street  ...              NaN              NaN   \n",
       "\n",
       "    highschool                                      otherfeatures  proptype  \\\n",
       "0          NaN  Basement:No;Fireplaces:1;Roof:Asphalt/Fibergla...        CC   \n",
       "1          NaN  Basement:No;Fireplaces:1;Roof:Asphalt/Fibergla...        CC   \n",
       "2  Swk Tolland  Basement:Yes;Fireplaces:0;Roof:Asphalt/Fibergl...        CC   \n",
       "3          NaN  Basement:Yes;Fireplaces:0;Roof:--;Floor:--;App...        CC   \n",
       "4          NaN  Basement:No;Fireplaces:1;Roof:Asphalt/Fibergla...        CC   \n",
       "\n",
       "         streetname  housenum1  housenum2  \\\n",
       "0    Russell Street        7.0        7.0   \n",
       "1    Russell Street        7.0        7.0   \n",
       "2  Junction Station        1.0        1.0   \n",
       "3       Hesston Ter       12.0       12.0   \n",
       "4    Russell Street        7.0        7.0   \n",
       "\n",
       "                                          photourl  \\\n",
       "0  http://media.mlspin.com/photo.aspx?mls=71759726   \n",
       "1  http://media.mlspin.com/photo.aspx?mls=71759731   \n",
       "2  http://media.mlspin.com/photo.aspx?mls=71783046   \n",
       "3  http://media.mlspin.com/photo.aspx?mls=71783100   \n",
       "4  http://media.mlspin.com/photo.aspx?mls=71794633   \n",
       "\n",
       "                                 row_id  \n",
       "0  8a18290a-3ce1-11ec-be06-acde48001122  \n",
       "1  8a182cca-3ce1-11ec-be06-acde48001122  \n",
       "2  8a182d06-3ce1-11ec-be06-acde48001122  \n",
       "3  8a182d24-3ce1-11ec-be06-acde48001122  \n",
       "4  8a182d42-3ce1-11ec-be06-acde48001122  \n",
       "\n",
       "[5 rows x 39 columns]"
      ]
     },
     "execution_count": 18,
     "metadata": {},
     "output_type": "execute_result"
    }
   ],
   "source": [
    "test.head()"
   ]
  },
  {
   "cell_type": "markdown",
   "metadata": {},
   "source": [
    "### Feature engineering"
   ]
  },
  {
   "cell_type": "code",
   "execution_count": 19,
   "metadata": {
    "_cell_guid": "7395a525-596b-4c61-bb03-34085f439994",
    "_uuid": "9cb74cd7e54aa972a2d1a2d954400ed8072f2674",
    "scrolled": false
   },
   "outputs": [
    {
     "data": {
      "text/html": [
       "<div>\n",
       "<style scoped>\n",
       "    .dataframe tbody tr th:only-of-type {\n",
       "        vertical-align: middle;\n",
       "    }\n",
       "\n",
       "    .dataframe tbody tr th {\n",
       "        vertical-align: top;\n",
       "    }\n",
       "\n",
       "    .dataframe thead th {\n",
       "        text-align: right;\n",
       "    }\n",
       "</style>\n",
       "<table border=\"1\" class=\"dataframe\">\n",
       "  <thead>\n",
       "    <tr style=\"text-align: right;\">\n",
       "      <th></th>\n",
       "      <th>dom</th>\n",
       "      <th>beds</th>\n",
       "      <th>baths</th>\n",
       "      <th>sqft</th>\n",
       "      <th>housenum1</th>\n",
       "      <th>housenum2</th>\n",
       "    </tr>\n",
       "  </thead>\n",
       "  <tbody>\n",
       "    <tr>\n",
       "      <th>count</th>\n",
       "      <td>500468.000000</td>\n",
       "      <td>500468.000000</td>\n",
       "      <td>500468.000000</td>\n",
       "      <td>500468.000000</td>\n",
       "      <td>9.608300e+04</td>\n",
       "      <td>4.925790e+05</td>\n",
       "    </tr>\n",
       "    <tr>\n",
       "      <th>mean</th>\n",
       "      <td>100.455182</td>\n",
       "      <td>3.455734</td>\n",
       "      <td>2.149979</td>\n",
       "      <td>439.930151</td>\n",
       "      <td>2.255472e+04</td>\n",
       "      <td>2.071589e+04</td>\n",
       "    </tr>\n",
       "    <tr>\n",
       "      <th>std</th>\n",
       "      <td>164.846234</td>\n",
       "      <td>1.687806</td>\n",
       "      <td>1.239873</td>\n",
       "      <td>1220.818806</td>\n",
       "      <td>6.810874e+05</td>\n",
       "      <td>6.672493e+05</td>\n",
       "    </tr>\n",
       "    <tr>\n",
       "      <th>min</th>\n",
       "      <td>-9.000000</td>\n",
       "      <td>0.000000</td>\n",
       "      <td>0.000000</td>\n",
       "      <td>0.000000</td>\n",
       "      <td>0.000000e+00</td>\n",
       "      <td>0.000000e+00</td>\n",
       "    </tr>\n",
       "    <tr>\n",
       "      <th>25%</th>\n",
       "      <td>16.000000</td>\n",
       "      <td>3.000000</td>\n",
       "      <td>1.000000</td>\n",
       "      <td>1.000000</td>\n",
       "      <td>1.600000e+01</td>\n",
       "      <td>1.700000e+01</td>\n",
       "    </tr>\n",
       "    <tr>\n",
       "      <th>50%</th>\n",
       "      <td>42.000000</td>\n",
       "      <td>3.000000</td>\n",
       "      <td>2.000000</td>\n",
       "      <td>2.000000</td>\n",
       "      <td>4.900000e+01</td>\n",
       "      <td>4.900000e+01</td>\n",
       "    </tr>\n",
       "    <tr>\n",
       "      <th>75%</th>\n",
       "      <td>127.000000</td>\n",
       "      <td>4.000000</td>\n",
       "      <td>2.500000</td>\n",
       "      <td>4.000000</td>\n",
       "      <td>1.560000e+02</td>\n",
       "      <td>1.550000e+02</td>\n",
       "    </tr>\n",
       "    <tr>\n",
       "      <th>max</th>\n",
       "      <td>4172.000000</td>\n",
       "      <td>20.000000</td>\n",
       "      <td>15.000000</td>\n",
       "      <td>99999.000000</td>\n",
       "      <td>5.337534e+07</td>\n",
       "      <td>8.698691e+07</td>\n",
       "    </tr>\n",
       "  </tbody>\n",
       "</table>\n",
       "</div>"
      ],
      "text/plain": [
       "                 dom           beds          baths           sqft  \\\n",
       "count  500468.000000  500468.000000  500468.000000  500468.000000   \n",
       "mean      100.455182       3.455734       2.149979     439.930151   \n",
       "std       164.846234       1.687806       1.239873    1220.818806   \n",
       "min        -9.000000       0.000000       0.000000       0.000000   \n",
       "25%        16.000000       3.000000       1.000000       1.000000   \n",
       "50%        42.000000       3.000000       2.000000       2.000000   \n",
       "75%       127.000000       4.000000       2.500000       4.000000   \n",
       "max      4172.000000      20.000000      15.000000   99999.000000   \n",
       "\n",
       "          housenum1     housenum2  \n",
       "count  9.608300e+04  4.925790e+05  \n",
       "mean   2.255472e+04  2.071589e+04  \n",
       "std    6.810874e+05  6.672493e+05  \n",
       "min    0.000000e+00  0.000000e+00  \n",
       "25%    1.600000e+01  1.700000e+01  \n",
       "50%    4.900000e+01  4.900000e+01  \n",
       "75%    1.560000e+02  1.550000e+02  \n",
       "max    5.337534e+07  8.698691e+07  "
      ]
     },
     "execution_count": 19,
     "metadata": {},
     "output_type": "execute_result"
    }
   ],
   "source": [
    "# Summarize numerical features\n",
    "train_dataset.describe()"
   ]
  },
  {
   "cell_type": "code",
   "execution_count": 20,
   "metadata": {
    "_cell_guid": "15124d8b-ff03-4a39-a15b-986eced026e0",
    "_uuid": "cdd7c9ccf7084982e23f78e7edf4314ceb25321e"
   },
   "outputs": [
    {
     "data": {
      "text/html": [
       "<div>\n",
       "<style scoped>\n",
       "    .dataframe tbody tr th:only-of-type {\n",
       "        vertical-align: middle;\n",
       "    }\n",
       "\n",
       "    .dataframe tbody tr th {\n",
       "        vertical-align: top;\n",
       "    }\n",
       "\n",
       "    .dataframe thead th {\n",
       "        text-align: right;\n",
       "    }\n",
       "</style>\n",
       "<table border=\"1\" class=\"dataframe\">\n",
       "  <thead>\n",
       "    <tr style=\"text-align: right;\">\n",
       "      <th></th>\n",
       "      <th>status</th>\n",
       "      <th>listprice</th>\n",
       "      <th>soldprice</th>\n",
       "      <th>solddate</th>\n",
       "      <th>expireddate</th>\n",
       "      <th>dom</th>\n",
       "      <th>dto</th>\n",
       "      <th>beds</th>\n",
       "      <th>baths</th>\n",
       "      <th>sqft</th>\n",
       "      <th>age</th>\n",
       "      <th>garage</th>\n",
       "      <th>housenum1</th>\n",
       "      <th>housenum2</th>\n",
       "    </tr>\n",
       "  </thead>\n",
       "  <tbody>\n",
       "    <tr>\n",
       "      <th>count</th>\n",
       "      <td>13346.000000</td>\n",
       "      <td>1.334600e+04</td>\n",
       "      <td>0.0</td>\n",
       "      <td>0.0</td>\n",
       "      <td>0.0</td>\n",
       "      <td>0.0</td>\n",
       "      <td>0.0</td>\n",
       "      <td>13346.000000</td>\n",
       "      <td>13346.000000</td>\n",
       "      <td>13346.000000</td>\n",
       "      <td>13335.000000</td>\n",
       "      <td>13344.000000</td>\n",
       "      <td>1.329900e+04</td>\n",
       "      <td>1.241800e+04</td>\n",
       "    </tr>\n",
       "    <tr>\n",
       "      <th>mean</th>\n",
       "      <td>1821.968755</td>\n",
       "      <td>5.184125e+05</td>\n",
       "      <td>NaN</td>\n",
       "      <td>NaN</td>\n",
       "      <td>NaN</td>\n",
       "      <td>NaN</td>\n",
       "      <td>NaN</td>\n",
       "      <td>3.392627</td>\n",
       "      <td>2.179380</td>\n",
       "      <td>2002.968455</td>\n",
       "      <td>62.392651</td>\n",
       "      <td>0.874775</td>\n",
       "      <td>4.794958e+04</td>\n",
       "      <td>2.758770e+03</td>\n",
       "    </tr>\n",
       "    <tr>\n",
       "      <th>std</th>\n",
       "      <td>1206.532034</td>\n",
       "      <td>6.223016e+05</td>\n",
       "      <td>NaN</td>\n",
       "      <td>NaN</td>\n",
       "      <td>NaN</td>\n",
       "      <td>NaN</td>\n",
       "      <td>NaN</td>\n",
       "      <td>1.936973</td>\n",
       "      <td>1.163532</td>\n",
       "      <td>1682.600913</td>\n",
       "      <td>53.223673</td>\n",
       "      <td>1.074032</td>\n",
       "      <td>1.050326e+06</td>\n",
       "      <td>2.902427e+05</td>\n",
       "    </tr>\n",
       "    <tr>\n",
       "      <th>min</th>\n",
       "      <td>1.000000</td>\n",
       "      <td>3.000000e+03</td>\n",
       "      <td>NaN</td>\n",
       "      <td>NaN</td>\n",
       "      <td>NaN</td>\n",
       "      <td>NaN</td>\n",
       "      <td>NaN</td>\n",
       "      <td>0.000000</td>\n",
       "      <td>0.000000</td>\n",
       "      <td>0.000000</td>\n",
       "      <td>-263.000000</td>\n",
       "      <td>0.000000</td>\n",
       "      <td>0.000000e+00</td>\n",
       "      <td>0.000000e+00</td>\n",
       "    </tr>\n",
       "    <tr>\n",
       "      <th>25%</th>\n",
       "      <td>837.000000</td>\n",
       "      <td>2.499000e+05</td>\n",
       "      <td>NaN</td>\n",
       "      <td>NaN</td>\n",
       "      <td>NaN</td>\n",
       "      <td>NaN</td>\n",
       "      <td>NaN</td>\n",
       "      <td>2.000000</td>\n",
       "      <td>1.500000</td>\n",
       "      <td>1240.000000</td>\n",
       "      <td>20.000000</td>\n",
       "      <td>0.000000</td>\n",
       "      <td>1.800000e+01</td>\n",
       "      <td>1.800000e+01</td>\n",
       "    </tr>\n",
       "    <tr>\n",
       "      <th>50%</th>\n",
       "      <td>1671.000000</td>\n",
       "      <td>3.750000e+05</td>\n",
       "      <td>NaN</td>\n",
       "      <td>NaN</td>\n",
       "      <td>NaN</td>\n",
       "      <td>NaN</td>\n",
       "      <td>NaN</td>\n",
       "      <td>3.000000</td>\n",
       "      <td>2.000000</td>\n",
       "      <td>1728.000000</td>\n",
       "      <td>53.000000</td>\n",
       "      <td>1.000000</td>\n",
       "      <td>5.300000e+01</td>\n",
       "      <td>5.000000e+01</td>\n",
       "    </tr>\n",
       "    <tr>\n",
       "      <th>75%</th>\n",
       "      <td>2641.000000</td>\n",
       "      <td>5.750000e+05</td>\n",
       "      <td>NaN</td>\n",
       "      <td>NaN</td>\n",
       "      <td>NaN</td>\n",
       "      <td>NaN</td>\n",
       "      <td>NaN</td>\n",
       "      <td>4.000000</td>\n",
       "      <td>2.500000</td>\n",
       "      <td>2400.000000</td>\n",
       "      <td>101.000000</td>\n",
       "      <td>2.000000</td>\n",
       "      <td>1.710000e+02</td>\n",
       "      <td>1.440000e+02</td>\n",
       "    </tr>\n",
       "    <tr>\n",
       "      <th>max</th>\n",
       "      <td>4893.000000</td>\n",
       "      <td>1.350000e+07</td>\n",
       "      <td>NaN</td>\n",
       "      <td>NaN</td>\n",
       "      <td>NaN</td>\n",
       "      <td>NaN</td>\n",
       "      <td>NaN</td>\n",
       "      <td>20.000000</td>\n",
       "      <td>15.000000</td>\n",
       "      <td>99999.000000</td>\n",
       "      <td>1895.000000</td>\n",
       "      <td>47.000000</td>\n",
       "      <td>5.337534e+07</td>\n",
       "      <td>3.234364e+07</td>\n",
       "    </tr>\n",
       "  </tbody>\n",
       "</table>\n",
       "</div>"
      ],
      "text/plain": [
       "             status     listprice  soldprice  solddate  expireddate  dom  dto  \\\n",
       "count  13346.000000  1.334600e+04        0.0       0.0          0.0  0.0  0.0   \n",
       "mean    1821.968755  5.184125e+05        NaN       NaN          NaN  NaN  NaN   \n",
       "std     1206.532034  6.223016e+05        NaN       NaN          NaN  NaN  NaN   \n",
       "min        1.000000  3.000000e+03        NaN       NaN          NaN  NaN  NaN   \n",
       "25%      837.000000  2.499000e+05        NaN       NaN          NaN  NaN  NaN   \n",
       "50%     1671.000000  3.750000e+05        NaN       NaN          NaN  NaN  NaN   \n",
       "75%     2641.000000  5.750000e+05        NaN       NaN          NaN  NaN  NaN   \n",
       "max     4893.000000  1.350000e+07        NaN       NaN          NaN  NaN  NaN   \n",
       "\n",
       "               beds         baths          sqft           age        garage  \\\n",
       "count  13346.000000  13346.000000  13346.000000  13335.000000  13344.000000   \n",
       "mean       3.392627      2.179380   2002.968455     62.392651      0.874775   \n",
       "std        1.936973      1.163532   1682.600913     53.223673      1.074032   \n",
       "min        0.000000      0.000000      0.000000   -263.000000      0.000000   \n",
       "25%        2.000000      1.500000   1240.000000     20.000000      0.000000   \n",
       "50%        3.000000      2.000000   1728.000000     53.000000      1.000000   \n",
       "75%        4.000000      2.500000   2400.000000    101.000000      2.000000   \n",
       "max       20.000000     15.000000  99999.000000   1895.000000     47.000000   \n",
       "\n",
       "          housenum1     housenum2  \n",
       "count  1.329900e+04  1.241800e+04  \n",
       "mean   4.794958e+04  2.758770e+03  \n",
       "std    1.050326e+06  2.902427e+05  \n",
       "min    0.000000e+00  0.000000e+00  \n",
       "25%    1.800000e+01  1.800000e+01  \n",
       "50%    5.300000e+01  5.000000e+01  \n",
       "75%    1.710000e+02  1.440000e+02  \n",
       "max    5.337534e+07  3.234364e+07  "
      ]
     },
     "execution_count": 20,
     "metadata": {},
     "output_type": "execute_result"
    }
   ],
   "source": [
    "\n",
    "test.describe()"
   ]
  },
  {
   "cell_type": "code",
   "execution_count": 21,
   "metadata": {},
   "outputs": [
    {
     "data": {
      "text/plain": [
       "(500468, 39)"
      ]
     },
     "execution_count": 21,
     "metadata": {},
     "output_type": "execute_result"
    }
   ],
   "source": [
    "train_dataset.shape"
   ]
  },
  {
   "cell_type": "code",
   "execution_count": 22,
   "metadata": {},
   "outputs": [
    {
     "data": {
      "text/plain": [
       "(13346, 39)"
      ]
     },
     "execution_count": 22,
     "metadata": {},
     "output_type": "execute_result"
    }
   ],
   "source": [
    "test.shape"
   ]
  },
  {
   "cell_type": "markdown",
   "metadata": {
    "_cell_guid": "eb453070-a274-4c98-88ce-adae363ed6b0",
    "_uuid": "e9468ee4eb48ee9dbb90dcebe9af96fa470169aa"
   },
   "source": [
    "### Missing values of numerical features"
   ]
  },
  {
   "cell_type": "markdown",
   "metadata": {},
   "source": [
    "Let us check for missing values and fill in any add indicator variable for missing data"
   ]
  },
  {
   "cell_type": "code",
   "execution_count": 23,
   "metadata": {
    "_cell_guid": "dbfd9aca-143a-4f74-9096-382bcf083331",
    "_uuid": "e32a61adf625900f6a1c5788767ddecc67610ecb"
   },
   "outputs": [],
   "source": [
    "# print(train_dataset.select_dtypes(exclude=['object']).isnull().sum(),'\\n')\n",
    "# print(test.select_dtypes(exclude=['object']).isnull().sum())"
   ]
  },
  {
   "cell_type": "code",
   "execution_count": 24,
   "metadata": {
    "_cell_guid": "5006a5dc-b667-48e6-85fd-4f607bac4ead",
    "_uuid": "effe19c6152d2b5e7d65c60ea5037ddac675a8fa"
   },
   "outputs": [],
   "source": [
    "# test.isnull().sum()"
   ]
  },
  {
   "cell_type": "markdown",
   "metadata": {
    "_cell_guid": "b5a6e11b-4a37-4752-989f-e2b206f109a3",
    "_uuid": "879ca2f254a8e66a0fbddea42b99192f314db239"
   },
   "source": [
    "### Categorical features cleaning"
   ]
  },
  {
   "cell_type": "code",
   "execution_count": 25,
   "metadata": {
    "_cell_guid": "2638993e-c2c9-48d0-835e-7b25c722e21a",
    "_uuid": "4fadb7eb303d9ecb34db18213f854a7c5e019e46"
   },
   "outputs": [],
   "source": [
    "# Display unique values of 'basement'\n",
    "# train_dataset.DOM.unique()\n",
    "# train_dataset.STATUS.unique()\n",
    "# train_dataset.BATHS.unique()\n",
    "#print(train_dataset.style.unique())\n",
    "#print(train_dataset.status.unique())"
   ]
  },
  {
   "cell_type": "markdown",
   "metadata": {},
   "source": [
    "###### Question 5"
   ]
  },
  {
   "cell_type": "markdown",
   "metadata": {},
   "source": [
    "Check missing values for categorical variables"
   ]
  },
  {
   "cell_type": "markdown",
   "metadata": {
    "_cell_guid": "e989bd49-2d17-451a-a1ea-693bf6452edf",
    "_uuid": "c35ce8ee3e70199f6a001a6036395c6a5c3977ac"
   },
   "source": [
    "### Joining the \"Train\" and \"test\" tables "
   ]
  },
  {
   "cell_type": "markdown",
   "metadata": {},
   "source": [
    "Before joining our tables, we need to set both of our table indexes. Let us set the test values as our new table indexes."
   ]
  },
  {
   "cell_type": "markdown",
   "metadata": {},
   "source": [
    "###### Question 6"
   ]
  },
  {
   "cell_type": "code",
   "execution_count": 26,
   "metadata": {
    "_cell_guid": "81247e5f-b65d-431b-a525-a08391fd82f7",
    "_uuid": "8161c3ca119b2a614097d3486b283da405a33bfd"
   },
   "outputs": [],
   "source": [
    "# YOUR CODE\n",
    "# Set index in train_dataset to corespond to the train_dataset['Store'] values\n",
    "# Set index in stores to corespond to the stores['Store'] values\n",
    "# Drop Store column in train_dataset\n",
    "\n",
    "train_dataset.index = train_dataset['row_id']\n",
    "test.index = test['row_id']\n"
   ]
  },
  {
   "cell_type": "code",
   "execution_count": 27,
   "metadata": {},
   "outputs": [],
   "source": [
    "train_set = train_dataset.drop(drop_list, axis=1)"
   ]
  },
  {
   "cell_type": "code",
   "execution_count": 28,
   "metadata": {},
   "outputs": [
    {
     "name": "stdout",
     "output_type": "stream",
     "text": [
      "Index(['mlsnum', 'status', 'listprice', 'soldprice', 'listdate', 'solddate',\n",
      "       'expireddate', 'dom', 'dto', 'address', 'city', 'state', 'zip', 'area',\n",
      "       'beds', 'baths', 'sqft', 'age', 'lotsize', 'agentname', 'officename',\n",
      "       'officephone', 'showinginstructions', 'remarks', 'style', 'level',\n",
      "       'garage', 'heating', 'cooling', 'elementaryschool', 'juniorhighschool',\n",
      "       'highschool', 'otherfeatures', 'proptype', 'streetname', 'housenum1',\n",
      "       'housenum2', 'photourl', 'row_id'],\n",
      "      dtype='object')\n"
     ]
    }
   ],
   "source": [
    "print(train_set.columns)"
   ]
  },
  {
   "cell_type": "code",
   "execution_count": 29,
   "metadata": {},
   "outputs": [
    {
     "data": {
      "text/html": [
       "<div>\n",
       "<style scoped>\n",
       "    .dataframe tbody tr th:only-of-type {\n",
       "        vertical-align: middle;\n",
       "    }\n",
       "\n",
       "    .dataframe tbody tr th {\n",
       "        vertical-align: top;\n",
       "    }\n",
       "\n",
       "    .dataframe thead th {\n",
       "        text-align: right;\n",
       "    }\n",
       "</style>\n",
       "<table border=\"1\" class=\"dataframe\">\n",
       "  <thead>\n",
       "    <tr style=\"text-align: right;\">\n",
       "      <th></th>\n",
       "      <th>mlsnum</th>\n",
       "      <th>status</th>\n",
       "      <th>listprice</th>\n",
       "      <th>soldprice</th>\n",
       "      <th>listdate</th>\n",
       "      <th>solddate</th>\n",
       "      <th>expireddate</th>\n",
       "      <th>dom</th>\n",
       "      <th>dto</th>\n",
       "      <th>address</th>\n",
       "      <th>...</th>\n",
       "      <th>elementaryschool</th>\n",
       "      <th>juniorhighschool</th>\n",
       "      <th>highschool</th>\n",
       "      <th>otherfeatures</th>\n",
       "      <th>proptype</th>\n",
       "      <th>streetname</th>\n",
       "      <th>housenum1</th>\n",
       "      <th>housenum2</th>\n",
       "      <th>photourl</th>\n",
       "      <th>row_id</th>\n",
       "    </tr>\n",
       "  </thead>\n",
       "  <tbody>\n",
       "    <tr>\n",
       "      <th>0</th>\n",
       "      <td>72250837</td>\n",
       "      <td>72250837</td>\n",
       "      <td>249900.0</td>\n",
       "      <td>NaN</td>\n",
       "      <td>NaN</td>\n",
       "      <td>11/2/2017</td>\n",
       "      <td>NaN</td>\n",
       "      <td>110.0</td>\n",
       "      <td>NaN</td>\n",
       "      <td>10 Cove Road</td>\n",
       "      <td>...</td>\n",
       "      <td>NaN</td>\n",
       "      <td>NaN</td>\n",
       "      <td>NaN</td>\n",
       "      <td>Basement:Yes;Fireplaces:0;Roof:Asphalt/Fibergl...</td>\n",
       "      <td>SF</td>\n",
       "      <td>SF</td>\n",
       "      <td>NaN</td>\n",
       "      <td>10.0</td>\n",
       "      <td>10</td>\n",
       "      <td>7a93a522-3ce1-11ec-be06-acde48001122</td>\n",
       "    </tr>\n",
       "    <tr>\n",
       "      <th>1</th>\n",
       "      <td>72097812</td>\n",
       "      <td>72097812</td>\n",
       "      <td>589900.0</td>\n",
       "      <td>NaN</td>\n",
       "      <td>NaN</td>\n",
       "      <td>11/21/2016</td>\n",
       "      <td>NaN</td>\n",
       "      <td>456.0</td>\n",
       "      <td>NaN</td>\n",
       "      <td>2 HUMMINGBIRD LANE</td>\n",
       "      <td>...</td>\n",
       "      <td>NaN</td>\n",
       "      <td>NaN</td>\n",
       "      <td>NaN</td>\n",
       "      <td>Basement:Yes;Fireplaces:1;Roof:--;Floor:Tile, ...</td>\n",
       "      <td>SF</td>\n",
       "      <td>SF</td>\n",
       "      <td>NaN</td>\n",
       "      <td>2.0</td>\n",
       "      <td>2</td>\n",
       "      <td>7a93a6da-3ce1-11ec-be06-acde48001122</td>\n",
       "    </tr>\n",
       "    <tr>\n",
       "      <th>2</th>\n",
       "      <td>72255021</td>\n",
       "      <td>72255021</td>\n",
       "      <td>299000.0</td>\n",
       "      <td>NaN</td>\n",
       "      <td>NaN</td>\n",
       "      <td>11/13/2017</td>\n",
       "      <td>NaN</td>\n",
       "      <td>99.0</td>\n",
       "      <td>NaN</td>\n",
       "      <td>130 Farm Lane</td>\n",
       "      <td>...</td>\n",
       "      <td>NaN</td>\n",
       "      <td>NaN</td>\n",
       "      <td>NaN</td>\n",
       "      <td>Basement:Yes;Fireplaces:0;Roof:Asphalt/Fibergl...</td>\n",
       "      <td>SF</td>\n",
       "      <td>SF</td>\n",
       "      <td>NaN</td>\n",
       "      <td>130.0</td>\n",
       "      <td>130</td>\n",
       "      <td>7a93a734-3ce1-11ec-be06-acde48001122</td>\n",
       "    </tr>\n",
       "    <tr>\n",
       "      <th>3</th>\n",
       "      <td>72215404</td>\n",
       "      <td>72215404</td>\n",
       "      <td>219900.0</td>\n",
       "      <td>NaN</td>\n",
       "      <td>NaN</td>\n",
       "      <td>8/17/2017</td>\n",
       "      <td>NaN</td>\n",
       "      <td>211.0</td>\n",
       "      <td>NaN</td>\n",
       "      <td>124 Beech St</td>\n",
       "      <td>...</td>\n",
       "      <td>NaN</td>\n",
       "      <td>NaN</td>\n",
       "      <td>NaN</td>\n",
       "      <td>NaN</td>\n",
       "      <td>MF</td>\n",
       "      <td>MF</td>\n",
       "      <td>NaN</td>\n",
       "      <td>124.0</td>\n",
       "      <td>124</td>\n",
       "      <td>7a93a838-3ce1-11ec-be06-acde48001122</td>\n",
       "    </tr>\n",
       "    <tr>\n",
       "      <th>4</th>\n",
       "      <td>72245726</td>\n",
       "      <td>72245726</td>\n",
       "      <td>169900.0</td>\n",
       "      <td>NaN</td>\n",
       "      <td>NaN</td>\n",
       "      <td>10/20/2017</td>\n",
       "      <td>NaN</td>\n",
       "      <td>123.0</td>\n",
       "      <td>NaN</td>\n",
       "      <td>6 Harvey Lane</td>\n",
       "      <td>...</td>\n",
       "      <td>NaN</td>\n",
       "      <td>NaN</td>\n",
       "      <td>NaN</td>\n",
       "      <td>Basement:Yes;Fireplaces:0;Roof:Asphalt/Fibergl...</td>\n",
       "      <td>SF</td>\n",
       "      <td>SF</td>\n",
       "      <td>NaN</td>\n",
       "      <td>6.0</td>\n",
       "      <td>6</td>\n",
       "      <td>7a93a9a0-3ce1-11ec-be06-acde48001122</td>\n",
       "    </tr>\n",
       "  </tbody>\n",
       "</table>\n",
       "<p>5 rows × 39 columns</p>\n",
       "</div>"
      ],
      "text/plain": [
       "     mlsnum    status listprice soldprice listdate    solddate expireddate  \\\n",
       "0  72250837  72250837  249900.0       NaN      NaN   11/2/2017         NaN   \n",
       "1  72097812  72097812  589900.0       NaN      NaN  11/21/2016         NaN   \n",
       "2  72255021  72255021  299000.0       NaN      NaN  11/13/2017         NaN   \n",
       "3  72215404  72215404  219900.0       NaN      NaN   8/17/2017         NaN   \n",
       "4  72245726  72245726  169900.0       NaN      NaN  10/20/2017         NaN   \n",
       "\n",
       "     dom  dto             address  ... elementaryschool juniorhighschool  \\\n",
       "0  110.0  NaN        10 Cove Road  ...              NaN              NaN   \n",
       "1  456.0  NaN  2 HUMMINGBIRD LANE  ...              NaN              NaN   \n",
       "2   99.0  NaN       130 Farm Lane  ...              NaN              NaN   \n",
       "3  211.0  NaN        124 Beech St  ...              NaN              NaN   \n",
       "4  123.0  NaN       6 Harvey Lane  ...              NaN              NaN   \n",
       "\n",
       "  highschool                                      otherfeatures  proptype  \\\n",
       "0        NaN  Basement:Yes;Fireplaces:0;Roof:Asphalt/Fibergl...        SF   \n",
       "1        NaN  Basement:Yes;Fireplaces:1;Roof:--;Floor:Tile, ...        SF   \n",
       "2        NaN  Basement:Yes;Fireplaces:0;Roof:Asphalt/Fibergl...        SF   \n",
       "3        NaN                                                NaN        MF   \n",
       "4        NaN  Basement:Yes;Fireplaces:0;Roof:Asphalt/Fibergl...        SF   \n",
       "\n",
       "   streetname  housenum1 housenum2 photourl  \\\n",
       "0          SF        NaN      10.0       10   \n",
       "1          SF        NaN       2.0        2   \n",
       "2          SF        NaN     130.0      130   \n",
       "3          MF        NaN     124.0      124   \n",
       "4          SF        NaN       6.0        6   \n",
       "\n",
       "                                 row_id  \n",
       "0  7a93a522-3ce1-11ec-be06-acde48001122  \n",
       "1  7a93a6da-3ce1-11ec-be06-acde48001122  \n",
       "2  7a93a734-3ce1-11ec-be06-acde48001122  \n",
       "3  7a93a838-3ce1-11ec-be06-acde48001122  \n",
       "4  7a93a9a0-3ce1-11ec-be06-acde48001122  \n",
       "\n",
       "[5 rows x 39 columns]"
      ]
     },
     "execution_count": 29,
     "metadata": {},
     "output_type": "execute_result"
    }
   ],
   "source": [
    "frames = [train_set, test]\n",
    "df_combined = pd.concat(frames)\n",
    "df_combined = df_combined.reset_index(drop=True)\n",
    "df_combined.head()"
   ]
  },
  {
   "cell_type": "code",
   "execution_count": 30,
   "metadata": {},
   "outputs": [
    {
     "data": {
      "text/plain": [
       "(513814, 39)"
      ]
     },
     "execution_count": 30,
     "metadata": {},
     "output_type": "execute_result"
    }
   ],
   "source": [
    "df_combined.shape"
   ]
  },
  {
   "cell_type": "code",
   "execution_count": 31,
   "metadata": {},
   "outputs": [],
   "source": [
    "df_combined.proptype.fillna('EXT', inplace=True)\n",
    "df_combined.age.fillna(0, inplace=True)\n",
    "df_combined.photourl.fillna('404', inplace=True)\n"
   ]
  },
  {
   "cell_type": "code",
   "execution_count": 32,
   "metadata": {
    "scrolled": true
   },
   "outputs": [
    {
     "name": "stdout",
     "output_type": "stream",
     "text": [
      "mlsnum                      0\n",
      "status                      0\n",
      "listprice                   0\n",
      "soldprice              350074\n",
      "listdate               267862\n",
      "solddate                82212\n",
      "expireddate            377727\n",
      "dto                    293745\n",
      "address                     0\n",
      "city                        0\n",
      "state                       0\n",
      "zip                         0\n",
      "area                    10295\n",
      "age                         0\n",
      "lotsize                     0\n",
      "agentname                   0\n",
      "officename                  0\n",
      "officephone                 0\n",
      "showinginstructions         0\n",
      "remarks                   441\n",
      "style                   47746\n",
      "level                  171859\n",
      "garage                      5\n",
      "heating                 47763\n",
      "cooling                513788\n",
      "elementaryschool       337409\n",
      "juniorhighschool       336377\n",
      "highschool             317643\n",
      "otherfeatures           47743\n",
      "streetname                 26\n",
      "photourl                    0\n",
      "row_id                      0\n",
      "dtype: int64\n"
     ]
    }
   ],
   "source": [
    "print(df_combined\n",
    "      .select_dtypes(include=['object'])\n",
    "      .isnull().sum())"
   ]
  },
  {
   "cell_type": "markdown",
   "metadata": {},
   "source": [
    "### Create Binary Variables for open answer"
   ]
  },
  {
   "cell_type": "code",
   "execution_count": 451,
   "metadata": {},
   "outputs": [],
   "source": [
    "df_combined['hasotherfeatures'] = np.where(df_combined['otherfeatures'].isnull(), 0, 1)\n",
    "df_combined['hasproptype'] = np.where(df_combined['proptype'].isnull(), 0, 1)\n",
    "df_combined['hasstreetname'] = np.where(df_combined['streetname'].isnull(), 0, 1)\n",
    "df_combined['hashousenum1'] = np.where(df_combined['housenum1'].isnull(), 0, 1)\n",
    "df_combined['hashousenum2'] = np.where(df_combined['housenum2'].isnull(), 0, 1)\n",
    "\n",
    "df_combined['hasagentname'] = np.where(df_combined['agentname'].isnull(), 0, 1)\n",
    "df_combined['hasofficename'] = np.where(df_combined['officename'].isnull(), 0, 1)\n",
    "df_combined['hasofficephone'] = np.where(df_combined['officephone'].isnull(), 0, 1)\n",
    "df_combined['hasshowinginstructions'] = np.where(df_combined['showinginstructions'].isnull(), 0, 1)\n",
    "df_combined['hasstyle'] = np.where(df_combined['style'].isnull() , 0, 1)\n",
    "df_combined['haslevel'] = np.where(df_combined['level'].isnull(), 0, 1)\n",
    "\n",
    "df_combined['hasgarage'] = np.where(df_combined['garage'].isnull(), 0, 1)\n",
    "df_combined['hasheating'] = np.where(df_combined['heating'].isnull(), 0, 1)\n",
    "df_combined['hascooling'] = np.where(df_combined['cooling'].isnull(), 0, 1)\n",
    "df_combined['haselementaryschool'] = np.where(df_combined['elementaryschool'].isnull(), 0, 1)\n",
    "df_combined['hasjuniorhighschool'] = np.where(df_combined['juniorhighschool'].isnull(), 0, 1)\n",
    "df_combined['hashighschool'] = np.where(df_combined['highschool'].isnull(), 0, 1)\n",
    "\n",
    "df_combined['haslistprice'] = np.where(df_combined['listprice'].isnull(), 0, 1)\n",
    "df_combined['haslistdate'] = np.where(df_combined['listdate'].isnull(), 0, 1)\n",
    "df_combined['hasaddress'] = np.where(df_combined['address'].isnull(), 0, 1)\n",
    "df_combined['hascity'] = np.where(df_combined['city'].isnull(), 0, 1)\n",
    "df_combined['hasstate'] = np.where(df_combined['state'].isnull(), 0, 1)\n",
    "df_combined['hasarea'] = np.where(df_combined['area'].isnull(), 0, 1)"
   ]
  },
  {
   "cell_type": "code",
   "execution_count": 33,
   "metadata": {},
   "outputs": [
    {
     "data": {
      "text/plain": [
       "Index(['mlsnum', 'status', 'listprice', 'soldprice', 'listdate', 'solddate',\n",
       "       'expireddate', 'dom', 'dto', 'address', 'city', 'state', 'zip', 'area',\n",
       "       'beds', 'baths', 'sqft', 'age', 'lotsize', 'agentname', 'officename',\n",
       "       'officephone', 'showinginstructions', 'remarks', 'style', 'level',\n",
       "       'garage', 'heating', 'cooling', 'elementaryschool', 'juniorhighschool',\n",
       "       'highschool', 'otherfeatures', 'proptype', 'streetname', 'housenum1',\n",
       "       'housenum2', 'photourl', 'row_id'],\n",
       "      dtype='object')"
      ]
     },
     "execution_count": 33,
     "metadata": {},
     "output_type": "execute_result"
    }
   ],
   "source": [
    "df_combined.columns"
   ]
  },
  {
   "cell_type": "markdown",
   "metadata": {},
   "source": [
    "### Remove Columns with open answer to keep consistency "
   ]
  },
  {
   "cell_type": "code",
   "execution_count": 34,
   "metadata": {},
   "outputs": [
    {
     "data": {
      "text/html": [
       "<div>\n",
       "<style scoped>\n",
       "    .dataframe tbody tr th:only-of-type {\n",
       "        vertical-align: middle;\n",
       "    }\n",
       "\n",
       "    .dataframe tbody tr th {\n",
       "        vertical-align: top;\n",
       "    }\n",
       "\n",
       "    .dataframe thead th {\n",
       "        text-align: right;\n",
       "    }\n",
       "</style>\n",
       "<table border=\"1\" class=\"dataframe\">\n",
       "  <thead>\n",
       "    <tr style=\"text-align: right;\">\n",
       "      <th></th>\n",
       "      <th>mlsnum</th>\n",
       "      <th>status</th>\n",
       "      <th>listprice</th>\n",
       "      <th>soldprice</th>\n",
       "      <th>listdate</th>\n",
       "      <th>solddate</th>\n",
       "      <th>expireddate</th>\n",
       "      <th>dom</th>\n",
       "      <th>dto</th>\n",
       "      <th>address</th>\n",
       "      <th>...</th>\n",
       "      <th>elementaryschool</th>\n",
       "      <th>juniorhighschool</th>\n",
       "      <th>highschool</th>\n",
       "      <th>otherfeatures</th>\n",
       "      <th>proptype</th>\n",
       "      <th>streetname</th>\n",
       "      <th>housenum1</th>\n",
       "      <th>housenum2</th>\n",
       "      <th>photourl</th>\n",
       "      <th>row_id</th>\n",
       "    </tr>\n",
       "  </thead>\n",
       "  <tbody>\n",
       "    <tr>\n",
       "      <th>0</th>\n",
       "      <td>72250837</td>\n",
       "      <td>72250837</td>\n",
       "      <td>249900.0</td>\n",
       "      <td>NaN</td>\n",
       "      <td>NaN</td>\n",
       "      <td>11/2/2017</td>\n",
       "      <td>NaN</td>\n",
       "      <td>110.0</td>\n",
       "      <td>NaN</td>\n",
       "      <td>10 Cove Road</td>\n",
       "      <td>...</td>\n",
       "      <td>NaN</td>\n",
       "      <td>NaN</td>\n",
       "      <td>NaN</td>\n",
       "      <td>Basement:Yes;Fireplaces:0;Roof:Asphalt/Fibergl...</td>\n",
       "      <td>SF</td>\n",
       "      <td>SF</td>\n",
       "      <td>NaN</td>\n",
       "      <td>10.0</td>\n",
       "      <td>10</td>\n",
       "      <td>7a93a522-3ce1-11ec-be06-acde48001122</td>\n",
       "    </tr>\n",
       "    <tr>\n",
       "      <th>1</th>\n",
       "      <td>72097812</td>\n",
       "      <td>72097812</td>\n",
       "      <td>589900.0</td>\n",
       "      <td>NaN</td>\n",
       "      <td>NaN</td>\n",
       "      <td>11/21/2016</td>\n",
       "      <td>NaN</td>\n",
       "      <td>456.0</td>\n",
       "      <td>NaN</td>\n",
       "      <td>2 HUMMINGBIRD LANE</td>\n",
       "      <td>...</td>\n",
       "      <td>NaN</td>\n",
       "      <td>NaN</td>\n",
       "      <td>NaN</td>\n",
       "      <td>Basement:Yes;Fireplaces:1;Roof:--;Floor:Tile, ...</td>\n",
       "      <td>SF</td>\n",
       "      <td>SF</td>\n",
       "      <td>NaN</td>\n",
       "      <td>2.0</td>\n",
       "      <td>2</td>\n",
       "      <td>7a93a6da-3ce1-11ec-be06-acde48001122</td>\n",
       "    </tr>\n",
       "    <tr>\n",
       "      <th>2</th>\n",
       "      <td>72255021</td>\n",
       "      <td>72255021</td>\n",
       "      <td>299000.0</td>\n",
       "      <td>NaN</td>\n",
       "      <td>NaN</td>\n",
       "      <td>11/13/2017</td>\n",
       "      <td>NaN</td>\n",
       "      <td>99.0</td>\n",
       "      <td>NaN</td>\n",
       "      <td>130 Farm Lane</td>\n",
       "      <td>...</td>\n",
       "      <td>NaN</td>\n",
       "      <td>NaN</td>\n",
       "      <td>NaN</td>\n",
       "      <td>Basement:Yes;Fireplaces:0;Roof:Asphalt/Fibergl...</td>\n",
       "      <td>SF</td>\n",
       "      <td>SF</td>\n",
       "      <td>NaN</td>\n",
       "      <td>130.0</td>\n",
       "      <td>130</td>\n",
       "      <td>7a93a734-3ce1-11ec-be06-acde48001122</td>\n",
       "    </tr>\n",
       "    <tr>\n",
       "      <th>3</th>\n",
       "      <td>72215404</td>\n",
       "      <td>72215404</td>\n",
       "      <td>219900.0</td>\n",
       "      <td>NaN</td>\n",
       "      <td>NaN</td>\n",
       "      <td>8/17/2017</td>\n",
       "      <td>NaN</td>\n",
       "      <td>211.0</td>\n",
       "      <td>NaN</td>\n",
       "      <td>124 Beech St</td>\n",
       "      <td>...</td>\n",
       "      <td>NaN</td>\n",
       "      <td>NaN</td>\n",
       "      <td>NaN</td>\n",
       "      <td>NaN</td>\n",
       "      <td>MF</td>\n",
       "      <td>MF</td>\n",
       "      <td>NaN</td>\n",
       "      <td>124.0</td>\n",
       "      <td>124</td>\n",
       "      <td>7a93a838-3ce1-11ec-be06-acde48001122</td>\n",
       "    </tr>\n",
       "    <tr>\n",
       "      <th>4</th>\n",
       "      <td>72245726</td>\n",
       "      <td>72245726</td>\n",
       "      <td>169900.0</td>\n",
       "      <td>NaN</td>\n",
       "      <td>NaN</td>\n",
       "      <td>10/20/2017</td>\n",
       "      <td>NaN</td>\n",
       "      <td>123.0</td>\n",
       "      <td>NaN</td>\n",
       "      <td>6 Harvey Lane</td>\n",
       "      <td>...</td>\n",
       "      <td>NaN</td>\n",
       "      <td>NaN</td>\n",
       "      <td>NaN</td>\n",
       "      <td>Basement:Yes;Fireplaces:0;Roof:Asphalt/Fibergl...</td>\n",
       "      <td>SF</td>\n",
       "      <td>SF</td>\n",
       "      <td>NaN</td>\n",
       "      <td>6.0</td>\n",
       "      <td>6</td>\n",
       "      <td>7a93a9a0-3ce1-11ec-be06-acde48001122</td>\n",
       "    </tr>\n",
       "  </tbody>\n",
       "</table>\n",
       "<p>5 rows × 39 columns</p>\n",
       "</div>"
      ],
      "text/plain": [
       "     mlsnum    status listprice soldprice listdate    solddate expireddate  \\\n",
       "0  72250837  72250837  249900.0       NaN      NaN   11/2/2017         NaN   \n",
       "1  72097812  72097812  589900.0       NaN      NaN  11/21/2016         NaN   \n",
       "2  72255021  72255021  299000.0       NaN      NaN  11/13/2017         NaN   \n",
       "3  72215404  72215404  219900.0       NaN      NaN   8/17/2017         NaN   \n",
       "4  72245726  72245726  169900.0       NaN      NaN  10/20/2017         NaN   \n",
       "\n",
       "     dom  dto             address  ... elementaryschool juniorhighschool  \\\n",
       "0  110.0  NaN        10 Cove Road  ...              NaN              NaN   \n",
       "1  456.0  NaN  2 HUMMINGBIRD LANE  ...              NaN              NaN   \n",
       "2   99.0  NaN       130 Farm Lane  ...              NaN              NaN   \n",
       "3  211.0  NaN        124 Beech St  ...              NaN              NaN   \n",
       "4  123.0  NaN       6 Harvey Lane  ...              NaN              NaN   \n",
       "\n",
       "  highschool                                      otherfeatures  proptype  \\\n",
       "0        NaN  Basement:Yes;Fireplaces:0;Roof:Asphalt/Fibergl...        SF   \n",
       "1        NaN  Basement:Yes;Fireplaces:1;Roof:--;Floor:Tile, ...        SF   \n",
       "2        NaN  Basement:Yes;Fireplaces:0;Roof:Asphalt/Fibergl...        SF   \n",
       "3        NaN                                                NaN        MF   \n",
       "4        NaN  Basement:Yes;Fireplaces:0;Roof:Asphalt/Fibergl...        SF   \n",
       "\n",
       "   streetname  housenum1 housenum2 photourl  \\\n",
       "0          SF        NaN      10.0       10   \n",
       "1          SF        NaN       2.0        2   \n",
       "2          SF        NaN     130.0      130   \n",
       "3          MF        NaN     124.0      124   \n",
       "4          SF        NaN       6.0        6   \n",
       "\n",
       "                                 row_id  \n",
       "0  7a93a522-3ce1-11ec-be06-acde48001122  \n",
       "1  7a93a6da-3ce1-11ec-be06-acde48001122  \n",
       "2  7a93a734-3ce1-11ec-be06-acde48001122  \n",
       "3  7a93a838-3ce1-11ec-be06-acde48001122  \n",
       "4  7a93a9a0-3ce1-11ec-be06-acde48001122  \n",
       "\n",
       "[5 rows x 39 columns]"
      ]
     },
     "execution_count": 34,
     "metadata": {},
     "output_type": "execute_result"
    }
   ],
   "source": [
    "df_combined.head()"
   ]
  },
  {
   "cell_type": "markdown",
   "metadata": {},
   "source": [
    "### Convert list columns to floats and it"
   ]
  },
  {
   "cell_type": "code",
   "execution_count": 35,
   "metadata": {},
   "outputs": [],
   "source": [
    "df_combined['listprice'] =  df_combined['listprice'].replace(',','', regex=True).astype(float)\n",
    "df_combined['listprice'] = df_combined['listprice'].astype('float32')\n",
    "# df_combined['age'] = df_combined['age'].astype('float32')\n",
    "# df_combined['lotsize'] = df_combined['lotsize'].astype('float32')\n",
    "df_combined['baths'] = df_combined['baths'].astype('float32')\n",
    "df_combined['beds'] = df_combined['beds'].astype('int')\n",
    "\n"
   ]
  },
  {
   "cell_type": "code",
   "execution_count": 36,
   "metadata": {},
   "outputs": [
    {
     "data": {
      "text/plain": [
       "mlsnum                  object\n",
       "status                  object\n",
       "listprice              float32\n",
       "soldprice               object\n",
       "listdate                object\n",
       "solddate                object\n",
       "expireddate             object\n",
       "dom                    float64\n",
       "dto                     object\n",
       "address                 object\n",
       "city                    string\n",
       "state                   string\n",
       "zip                     object\n",
       "area                    object\n",
       "beds                     int64\n",
       "baths                  float32\n",
       "sqft                     int64\n",
       "age                     object\n",
       "lotsize                 object\n",
       "agentname               object\n",
       "officename              object\n",
       "officephone             object\n",
       "showinginstructions     object\n",
       "remarks                 object\n",
       "style                   object\n",
       "level                   object\n",
       "garage                  object\n",
       "heating                 object\n",
       "cooling                 object\n",
       "elementaryschool        object\n",
       "juniorhighschool        object\n",
       "highschool              object\n",
       "otherfeatures           object\n",
       "proptype                 int64\n",
       "streetname              object\n",
       "housenum1              float64\n",
       "housenum2              float64\n",
       "photourl                string\n",
       "row_id                  object\n",
       "proptype_str            string\n",
       "zip_str                 string\n",
       "dtype: object"
      ]
     },
     "execution_count": 36,
     "metadata": {},
     "output_type": "execute_result"
    }
   ],
   "source": [
    "df_combined['city'] = df_combined['city'].astype('string')\n",
    "df_combined['state'] = df_combined['state'].astype('string') # category\n",
    "df_combined['photourl'] = df_combined['photourl'].astype('string')\n",
    "df_combined['zip'] = df_combined['zip'].astype('string')\n",
    "df_combined.city.fillna(\"00000\", inplace=True)\n",
    "df_combined.zip.fillna(\"00000\", inplace=True)\n",
    "df_combined.state.fillna(\"NA\", inplace=True)\n",
    "df_combined.photourl.fillna(\"NA\", inplace=True)\n",
    "# keep these variables as original string for csv export \n",
    "df_combined['proptype_str'] = df_combined['proptype'].astype('string')\n",
    "df_combined['zip_str'] =  df_combined['zip'].astype('string')\n",
    "\n",
    "df_combined['listprice'] = pd.to_numeric(df_combined['listprice'], errors='ignore')\n",
    "df_combined['beds'] = pd.to_numeric(df_combined['beds'], errors='ignore')\n",
    "df_combined['baths'] = pd.to_numeric(df_combined['baths'], errors='ignore')\n",
    "df_combined['sqft'] = pd.to_numeric(df_combined['sqft'], errors='ignore')\n",
    "df_combined['zip'] = pd.to_numeric(df_combined['zip'], errors='ignore')\n",
    "\n",
    "df_combined.listprice.fillna(0, inplace=True)\n",
    "df_combined.zip.fillna(0, inplace=True)\n",
    "df_combined.sqft.fillna(0, inplace=True)\n",
    "df_combined.beds.fillna(0, inplace=True)\n",
    "df_combined.baths.fillna(0, inplace=True)\n",
    "\n",
    "df_combined.loc[df_combined.proptype == 'CC', 'proptype'] = '1'\n",
    "df_combined.loc[df_combined.proptype == 'MF', 'proptype'] = '2'\n",
    "df_combined.loc[df_combined.proptype == 'SF', 'proptype'] = '3'\n",
    "df_combined.loc[df_combined.proptype == 'EXT', 'proptype'] = '4'\n",
    "df_combined[df_combined.eq('00nan').any(1)]\n",
    "df_combined.loc[df_combined['zip'] == '00nan', ['zip']] = 0\n",
    "df_combined.loc[df_combined['zip'] == 'Centerville', ['zip']] = 0\n",
    "df_combined['proptype'] = df_combined['proptype'].astype('int')\n",
    "\n",
    "df_combined_original = df_combined\n",
    "\n",
    "df_combined.dtypes"
   ]
  },
  {
   "cell_type": "code",
   "execution_count": 37,
   "metadata": {},
   "outputs": [
    {
     "data": {
      "text/plain": [
       "Index(['mlsnum', 'status', 'listprice', 'soldprice', 'listdate', 'solddate',\n",
       "       'expireddate', 'dom', 'dto', 'address', 'city', 'state', 'zip', 'area',\n",
       "       'beds', 'baths', 'sqft', 'age', 'lotsize', 'agentname', 'officename',\n",
       "       'officephone', 'showinginstructions', 'remarks', 'style', 'level',\n",
       "       'garage', 'heating', 'cooling', 'elementaryschool', 'juniorhighschool',\n",
       "       'highschool', 'otherfeatures', 'proptype', 'streetname', 'housenum1',\n",
       "       'housenum2', 'photourl', 'row_id', 'proptype_str', 'zip_str'],\n",
       "      dtype='object')"
      ]
     },
     "execution_count": 37,
     "metadata": {},
     "output_type": "execute_result"
    }
   ],
   "source": [
    "df_combined.columns"
   ]
  },
  {
   "cell_type": "code",
   "execution_count": 38,
   "metadata": {},
   "outputs": [],
   "source": [
    "df_combined.to_csv('df_combined.csv', sep=',', encoding='utf-8')"
   ]
  },
  {
   "cell_type": "code",
   "execution_count": 39,
   "metadata": {},
   "outputs": [],
   "source": [
    "new_drop_columns = [ 'status','listdate', 'address','area',\n",
    "                    'agentname','officename', 'officephone', \n",
    "                    'showinginstructions', 'remarks', 'style',\n",
    "                    'level', 'garage', 'heating', 'cooling', \n",
    "                    'elementaryschool', 'juniorhighschool', \n",
    "                    'highschool', 'otherfeatures', 'streetname', \n",
    "                    'housenum1', 'housenum2', 'mlsnum', 'soldprice', 'solddate',\n",
    "                   'dom', 'dto', 'expireddate', 'age', 'lotsize', \n",
    "                    'mlsnum', 'row_id', 'proptype_str', 'zip_str',  'city','state', 'photourl']\n",
    "df_combined.drop(new_drop_columns, axis=1, inplace=True)"
   ]
  },
  {
   "cell_type": "code",
   "execution_count": 40,
   "metadata": {},
   "outputs": [
    {
     "name": "stdout",
     "output_type": "stream",
     "text": [
      "zip    0\n",
      "dtype: int64\n"
     ]
    }
   ],
   "source": [
    "print(df_combined\n",
    "      .select_dtypes(include=['object'])\n",
    "      .isnull().sum())\n",
    "\n"
   ]
  },
  {
   "cell_type": "code",
   "execution_count": 41,
   "metadata": {},
   "outputs": [
    {
     "data": {
      "text/plain": [
       "Index(['listprice', 'zip', 'beds', 'baths', 'sqft', 'proptype'], dtype='object')"
      ]
     },
     "execution_count": 41,
     "metadata": {},
     "output_type": "execute_result"
    }
   ],
   "source": [
    "df_combined.columns"
   ]
  },
  {
   "cell_type": "code",
   "execution_count": 42,
   "metadata": {},
   "outputs": [
    {
     "data": {
      "text/plain": [
       "Index(['listprice', 'zip', 'beds', 'baths', 'sqft', 'proptype'], dtype='object')"
      ]
     },
     "execution_count": 42,
     "metadata": {},
     "output_type": "execute_result"
    }
   ],
   "source": [
    "df_combined_original.columns"
   ]
  },
  {
   "cell_type": "code",
   "execution_count": 43,
   "metadata": {},
   "outputs": [
    {
     "name": "stdout",
     "output_type": "stream",
     "text": [
      "Statistics for Boston housing dataset:\n",
      "\n",
      "Minimum price: $1,000.00\n",
      "Maximum price: $90,000,000.00\n",
      "Mean price: $631,906.00\n",
      "Median price $415,900.00\n",
      "Standard deviation of prices: $1,073,829.25\n",
      "First quartile of prices: $269,900.00\n",
      "Second quartile of prices: $654,900.00\n",
      "Interquartile (IQR) of prices: $385,000.00\n"
     ]
    }
   ],
   "source": [
    "\n",
    "prices = df_combined['listprice'].astype('float32')\n",
    "#prices.describe()\n",
    "minimum_price = np.min(prices)\n",
    "\n",
    "# TODO: Maximum price of the data\n",
    "maximum_price = np.max(prices)\n",
    "# Alternative using pandas\n",
    "# maximum_price = prices.max()\n",
    "\n",
    "# TODO: Mean price of the data\n",
    "mean_price = np.mean(prices)\n",
    "# Alternative using pandas\n",
    "# mean_price = prices.mean()\n",
    "\n",
    "# TODO: Median price of the data\n",
    "median_price = np.nanmedian(prices)\n",
    "# Alternative using pandas\n",
    "# median_price = prices.median()\n",
    "\n",
    "# TODO: Standard deviation of prices of the data\n",
    "std_price = np.std(prices)\n",
    "# Alternative using pandas \n",
    "# std_price = prices.std(ddof=0)\n",
    "\n",
    "# There are other statistics you can calculate too like quartiles\n",
    "first_quartile = np.nanpercentile(prices, 25)\n",
    "third_quartile = np.nanpercentile(prices, 75)\n",
    "inter_quartile = third_quartile - first_quartile\n",
    "\n",
    "# Show the calculated statistics\n",
    "print (\"Statistics for Boston housing dataset:\\n\")\n",
    "print (\"Minimum price: ${:,.2f}\".format(minimum_price))\n",
    "print (\"Maximum price: ${:,.2f}\".format(maximum_price))\n",
    "print (\"Mean price: ${:,.2f}\".format(mean_price))\n",
    "print (\"Median price ${:,.2f}\".format(median_price))\n",
    "print (\"Standard deviation of prices: ${:,.2f}\".format(std_price))\n",
    "print (\"First quartile of prices: ${:,.2f}\".format(first_quartile))\n",
    "print (\"Second quartile of prices: ${:,.2f}\".format(third_quartile))\n",
    "print (\"Interquartile (IQR) of prices: ${:,.2f}\".format(inter_quartile))"
   ]
  },
  {
   "cell_type": "code",
   "execution_count": 44,
   "metadata": {},
   "outputs": [
    {
     "name": "stdout",
     "output_type": "stream",
     "text": [
      "3.0\n",
      "Statistics for Boston housing dataset:\n",
      "\n",
      "Minimum beds: 0.00\n",
      "Maximum beds: 20.00\n",
      "Mean beds: 3.45\n",
      "Median beds 3.00\n",
      "Standard deviation of beds: 1.69\n",
      "First quartile of beds: 3.00\n",
      "Second quartile of beds: 4.00\n",
      "Interquartile (IQR) of beds: 1.00\n"
     ]
    }
   ],
   "source": [
    "beds = df_combined['beds']\n",
    "beds.describe()\n",
    "minimum_beds = np.min(beds)\n",
    "maximum_beds = np.max(beds)\n",
    "\n",
    "# TODO: Mean beds of the data\n",
    "mean_beds = np.mean(beds)\n",
    "# Alternative using pandas\n",
    "# mean_beds = beds.mean()\n",
    "\n",
    "# TODO: Median beds of the data\n",
    "median_beds = np.nanmedian(beds)\n",
    "# Alternative using pandas\n",
    "# median_beds = beds.median()\n",
    "\n",
    "# TODO: Standard deviation of beds of the data\n",
    "std_beds = np.std(beds)\n",
    "# Alternative using pandas \n",
    "# std_beds = beds.std(ddof=0)\n",
    "\n",
    "# There are other statistics you can calculate too like quartiles\n",
    "first_quartile = np.nanpercentile(beds, 25)\n",
    "third_quartile = np.nanpercentile(beds, 75)\n",
    "inter_quartile = third_quartile - first_quartile\n",
    "print(median_beds)\n",
    "# Show the calculated statistics\n",
    "print (\"Statistics for Boston housing dataset:\\n\")\n",
    "print (\"Minimum beds: {:,.2f}\".format(minimum_beds))\n",
    "print (\"Maximum beds: {:,.2f}\".format(maximum_beds))\n",
    "print (\"Mean beds: {:,.2f}\".format(mean_beds))\n",
    "print (\"Median beds {:,.2f}\".format(median_beds))\n",
    "print (\"Standard deviation of beds: {:,.2f}\".format(std_beds))\n",
    "print (\"First quartile of beds: {:,.2f}\".format(first_quartile))\n",
    "print (\"Second quartile of beds: {:,.2f}\".format(third_quartile))\n",
    "print (\"Interquartile (IQR) of beds: {:,.2f}\".format(inter_quartile))"
   ]
  },
  {
   "cell_type": "code",
   "execution_count": 45,
   "metadata": {},
   "outputs": [
    {
     "name": "stdout",
     "output_type": "stream",
     "text": [
      "2.0\n",
      "Statistics for Boston housing dataset:\n",
      "\n",
      "Minimum baths: 0.00\n",
      "Maximum baths: 15.00\n",
      "Mean baths: 2.15\n",
      "Median baths 2.00\n",
      "Standard deviation of baths: 1.24\n",
      "First quartile of baths: 1.00\n",
      "Second quartile of baths: 2.50\n",
      "Interquartile (IQR) of baths: 1.50\n"
     ]
    }
   ],
   "source": [
    "baths = df_combined['baths']\n",
    "baths.describe()\n",
    "minimum_baths = np.min(baths)\n",
    "maximum_baths = np.max(baths)\n",
    "\n",
    "# TODO: Mean baths of the data\n",
    "mean_baths = np.mean(baths)\n",
    "# Alternative using pandas\n",
    "# mean_baths = baths.mean()\n",
    "\n",
    "# TODO: Median baths of the data\n",
    "median_baths = np.nanmedian(baths)\n",
    "# Alternative using pandas\n",
    "# median_baths = baths.median()\n",
    "\n",
    "# TODO: Standard deviation of baths of the data\n",
    "std_baths = np.std(baths)\n",
    "# Alternative using pandas \n",
    "# std_baths = baths.std(ddof=0)\n",
    "\n",
    "# There are other statistics you can calculate too like quartiles\n",
    "first_quartile = np.nanpercentile(baths, 25)\n",
    "third_quartile = np.nanpercentile(baths, 75)\n",
    "inter_quartile = third_quartile - first_quartile\n",
    "print(median_baths)\n",
    "# Show the calculated statistics\n",
    "print (\"Statistics for Boston housing dataset:\\n\")\n",
    "print (\"Minimum baths: {:,.2f}\".format(minimum_baths))\n",
    "print (\"Maximum baths: {:,.2f}\".format(maximum_baths))\n",
    "print (\"Mean baths: {:,.2f}\".format(mean_baths))\n",
    "print (\"Median baths {:,.2f}\".format(median_baths))\n",
    "print (\"Standard deviation of baths: {:,.2f}\".format(std_baths))\n",
    "print (\"First quartile of baths: {:,.2f}\".format(first_quartile))\n",
    "print (\"Second quartile of baths: {:,.2f}\".format(third_quartile))\n",
    "print (\"Interquartile (IQR) of baths: {:,.2f}\".format(inter_quartile))"
   ]
  },
  {
   "cell_type": "markdown",
   "metadata": {},
   "source": [
    "### Convert store type and assortiman from char to int"
   ]
  },
  {
   "cell_type": "code",
   "execution_count": 46,
   "metadata": {},
   "outputs": [
    {
     "data": {
      "text/plain": [
       "Text(0, 0.5, 'List Price')"
      ]
     },
     "execution_count": 46,
     "metadata": {},
     "output_type": "execute_result"
    },
    {
     "data": {
      "image/png": "[encoded data removed]",
      "text/plain": [
       "<Figure size 432x288 with 1 Axes>"
      ]
     },
     "metadata": {
      "needs_background": "light"
     },
     "output_type": "display_data"
    }
   ],
   "source": [
    "import matplotlib.pyplot as plt\n",
    "\n",
    "fig, ax = plt.subplots(1,1)\n",
    "x = df_combined['beds']\n",
    "y = prices\n",
    "plt.plot(x, y, 'o')\n",
    "# Create regression line\n",
    "plt.plot(np.unique(x), \n",
    "         np.poly1d(np.polyfit(x, y, 1))\n",
    "         (np.unique(x)))\n",
    "plt.title(\"Beds\")\n",
    "plt.xlabel('Beds')\n",
    "plt.ylabel('List Price')\n",
    "\n"
   ]
  },
  {
   "cell_type": "code",
   "execution_count": 47,
   "metadata": {},
   "outputs": [],
   "source": [
    "# fig, ax = plt.subplots(1,1)\n",
    "# x = df_combined['proptype']\n",
    "# y = prices\n",
    "# plt.plot(x, y, 'o')\n",
    "# plt.title(\"Properties Types\")\n",
    "# plt.xlabel('Proptypes')\n",
    "# plt.ylabel('List Price')\n",
    "\n"
   ]
  },
  {
   "cell_type": "code",
   "execution_count": 48,
   "metadata": {},
   "outputs": [
    {
     "data": {
      "text/plain": [
       "Text(0.5, 1.0, 'ListPrice')"
      ]
     },
     "execution_count": 48,
     "metadata": {},
     "output_type": "execute_result"
    },
    {
     "data": {
      "image/png": "[encoded data removed]",
      "text/plain": [
       "<Figure size 432x288 with 1 Axes>"
      ]
     },
     "metadata": {
      "needs_background": "light"
     },
     "output_type": "display_data"
    }
   ],
   "source": [
    "plt.boxplot(prices, showfliers=False)\n",
    "plt.title(\"ListPrice\")"
   ]
  },
  {
   "cell_type": "code",
   "execution_count": 49,
   "metadata": {},
   "outputs": [
    {
     "data": {
      "text/plain": [
       "Text(0.5, 1.0, 'Beds')"
      ]
     },
     "execution_count": 49,
     "metadata": {},
     "output_type": "execute_result"
    },
    {
     "data": {
      "image/png": "[encoded data removed]",
      "text/plain": [
       "<Figure size 432x288 with 1 Axes>"
      ]
     },
     "metadata": {
      "needs_background": "light"
     },
     "output_type": "display_data"
    }
   ],
   "source": [
    "plt.boxplot(df_combined['beds'], showfliers=False)\n",
    "plt.title(\"Beds\")"
   ]
  },
  {
   "cell_type": "code",
   "execution_count": 50,
   "metadata": {},
   "outputs": [
    {
     "data": {
      "text/plain": [
       "Text(0.5, 1.0, 'Baths')"
      ]
     },
     "execution_count": 50,
     "metadata": {},
     "output_type": "execute_result"
    },
    {
     "data": {
      "image/png": "[encoded data removed]",
      "text/plain": [
       "<Figure size 432x288 with 1 Axes>"
      ]
     },
     "metadata": {
      "needs_background": "light"
     },
     "output_type": "display_data"
    }
   ],
   "source": [
    "plt.boxplot(df_combined['baths'], showfliers=False)\n",
    "plt.title(\"Baths\")"
   ]
  },
  {
   "cell_type": "code",
   "execution_count": 51,
   "metadata": {},
   "outputs": [
    {
     "data": {
      "text/plain": [
       "Text(0.5, 1.0, 'sqft')"
      ]
     },
     "execution_count": 51,
     "metadata": {},
     "output_type": "execute_result"
    },
    {
     "data": {
      "image/png": "[encoded data removed]",
      "text/plain": [
       "<Figure size 432x288 with 1 Axes>"
      ]
     },
     "metadata": {
      "needs_background": "light"
     },
     "output_type": "display_data"
    }
   ],
   "source": [
    "plt.boxplot(df_combined['sqft'], showfliers=False)\n",
    "plt.title(\"sqft\")"
   ]
  },
  {
   "cell_type": "code",
   "execution_count": 52,
   "metadata": {},
   "outputs": [
    {
     "data": {
      "text/plain": [
       "count    513814.000000\n",
       "mean          2.150742\n",
       "std           1.237957\n",
       "min           0.000000\n",
       "25%           1.000000\n",
       "50%           2.000000\n",
       "75%           2.500000\n",
       "max          15.000000\n",
       "Name: baths, dtype: float64"
      ]
     },
     "execution_count": 52,
     "metadata": {},
     "output_type": "execute_result"
    },
    {
     "data": {
      "image/png": "[encoded data removed]",
      "text/plain": [
       "<Figure size 432x288 with 1 Axes>"
      ]
     },
     "metadata": {
      "needs_background": "light"
     },
     "output_type": "display_data"
    }
   ],
   "source": [
    "fig, ax = plt.subplots(1,1)\n",
    "x = df_combined['baths']\n",
    "y = prices\n",
    "plt.plot(x, y, 'o')\n",
    "# Create regression line\n",
    "plt.plot(np.unique(x),\n",
    "         np.poly1d(np.polyfit(x, y, 1))\n",
    "         (np.unique(x)))\n",
    "plt.title(\"Baths\")\n",
    "plt.xlabel('Baths')\n",
    "plt.ylabel('List Price')\n",
    "\n",
    "df_combined['baths'].describe()\n"
   ]
  },
  {
   "cell_type": "code",
   "execution_count": 53,
   "metadata": {},
   "outputs": [
    {
     "data": {
      "text/plain": [
       "Text(0, 0.5, 'List Price')"
      ]
     },
     "execution_count": 53,
     "metadata": {},
     "output_type": "execute_result"
    },
    {
     "data": {
      "image/png": "[encoded data removed]",
      "text/plain": [
       "<Figure size 432x288 with 1 Axes>"
      ]
     },
     "metadata": {
      "needs_background": "light"
     },
     "output_type": "display_data"
    }
   ],
   "source": [
    "fig, ax = plt.subplots(1,1)\n",
    "x = df_combined['sqft']\n",
    "y = prices\n",
    "plt.plot(x, y, 'o')\n",
    "# Create regression line\n",
    "plt.plot(np.unique(x),\n",
    "         np.poly1d(np.polyfit(x, y, 1))\n",
    "         (np.unique(x)))\n",
    "plt.title(\"sqft\")\n",
    "plt.xlabel('sqft')\n",
    "plt.ylabel('List Price')"
   ]
  },
  {
   "cell_type": "code",
   "execution_count": 54,
   "metadata": {},
   "outputs": [],
   "source": [
    "# Calculate and show pairplot\n",
    "# sns.pairplot(df_combined)\n",
    "# plt.tight_layout()"
   ]
  },
  {
   "cell_type": "code",
   "execution_count": 55,
   "metadata": {},
   "outputs": [],
   "source": [
    "# # Calculate and show correlation matrix\n",
    "# cm = np.corrcoef(df_combined.values.T)\n",
    "# sns.set(font_scale=1.5)\n",
    "# hm = sns.heatmap(cm,\n",
    "#                 cbar=True,\n",
    "#                 annot=True,\n",
    "#                 square=True,\n",
    "#                 fmt='.2f',\n",
    "#                 annot_kws={'size': 15},\n",
    "#                 yticklabels=cols,\n",
    "#                 xticklabels=cols)"
   ]
  },
  {
   "cell_type": "code",
   "execution_count": 56,
   "metadata": {},
   "outputs": [],
   "source": [
    "# plt.hist(prices, density=True, bins=30)  # density=False would make counts\n",
    "# plt.ylabel('Probability')\n",
    "# plt.xlabel('List Price');\n",
    "# hist, bins, _ = plt.hist(prices, bins=8)\n",
    "# logbins = np.logspace(np.log10(bins[0]),np.log10(bins[-1]),len(bins))\n",
    "# plt.subplot(212)\n",
    "# plt.hist(x, bins=logbins)\n",
    "# plt.xscale('log')\n",
    "# plt.show()"
   ]
  },
  {
   "cell_type": "code",
   "execution_count": 57,
   "metadata": {},
   "outputs": [
    {
     "data": {
      "image/png": "[encoded data removed]",
      "text/plain": [
       "<Figure size 432x288 with 1 Axes>"
      ]
     },
     "metadata": {
      "needs_background": "light"
     },
     "output_type": "display_data"
    }
   ],
   "source": [
    "plt.hist(prices, bins=np.logspace(np.log10(0.1),np.log10(1.0), 50))\n",
    "plt.gca().set_xscale(\"log\")\n",
    "plt.show()"
   ]
  },
  {
   "cell_type": "code",
   "execution_count": 58,
   "metadata": {},
   "outputs": [
    {
     "data": {
      "image/png": "[encoded data removed]",
      "text/plain": [
       "<Figure size 432x288 with 1 Axes>"
      ]
     },
     "metadata": {
      "needs_background": "light"
     },
     "output_type": "display_data"
    }
   ],
   "source": [
    "plt.hist(df_combined['beds'])\n",
    "# pl.gca().set_xscale(\"log\")\n",
    "plt.show()"
   ]
  },
  {
   "cell_type": "code",
   "execution_count": 59,
   "metadata": {},
   "outputs": [
    {
     "data": {
      "image/png": "[encoded data removed]",
      "text/plain": [
       "<Figure size 432x288 with 1 Axes>"
      ]
     },
     "metadata": {
      "needs_background": "light"
     },
     "output_type": "display_data"
    }
   ],
   "source": [
    "plt.hist(df_combined['baths'])\n",
    "# pl.gca().set_xscale(\"log\")\n",
    "plt.show()"
   ]
  },
  {
   "cell_type": "code",
   "execution_count": 60,
   "metadata": {},
   "outputs": [
    {
     "data": {
      "image/png": "[encoded data removed]",
      "text/plain": [
       "<Figure size 432x288 with 1 Axes>"
      ]
     },
     "metadata": {
      "needs_background": "light"
     },
     "output_type": "display_data"
    }
   ],
   "source": [
    "plt.hist(df_combined['sqft'], bins=np.logspace(np.log10(0.1),np.log10(1.0), 50))\n",
    "plt.gca().set_xscale(\"log\")\n",
    "plt.show()"
   ]
  },
  {
   "cell_type": "markdown",
   "metadata": {},
   "source": [
    "Convert Style"
   ]
  },
  {
   "cell_type": "markdown",
   "metadata": {
    "_cell_guid": "8339e1d5-cf5c-420f-bb40-3a92b3a5186e",
    "_uuid": "9c19f2bc0fca159a3cd0ba5f9683caf7ecfd5d4c"
   },
   "source": [
    "## EDA"
   ]
  },
  {
   "cell_type": "markdown",
   "metadata": {},
   "source": [
    "To determine what type of models and predictors might work best for predicting house prices, we studied which factors are causing the most variance in sales."
   ]
  },
  {
   "cell_type": "markdown",
   "metadata": {},
   "source": [
    "#### Variations based on dataset  Attributes"
   ]
  },
  {
   "cell_type": "code",
   "execution_count": 61,
   "metadata": {},
   "outputs": [],
   "source": [
    "# df_subset = df_combined # .head(100)\n",
    "# sns.set(font_scale=2)\n",
    "# fig, ax = plt.subplots(1,1,figsize=(10,10))\n",
    "# p3 = sns.barplot(x='beds', y='listprice', data=df_subset, ax=ax)\n",
    "# ax.set(xlabel='beds')\n",
    "# ax.set_ylabel('listprice')\n",
    "# ax.set_title('')\n",
    "# plt.xticks(rotation=45, ha=\"right\")\n",
    "\n",
    "# plt.show()\n"
   ]
  },
  {
   "cell_type": "code",
   "execution_count": 62,
   "metadata": {},
   "outputs": [],
   "source": [
    "# df_subset = df_combined # .head(100)\n",
    "# sns.set(font_scale=2)\n",
    "# fig, ax = plt.subplots(1,1,figsize=(12,12))\n",
    "# p3 = sns.barplot(x='baths', y='listprice', data=df_subset, ax=ax)\n",
    "# ax.set(xlabel='baths')\n",
    "# ax.set_ylabel('listprice')\n",
    "# ax.set_title('')\n",
    "# plt.xticks(rotation=45, ha=\"right\")\n",
    "\n",
    "# plt.show()"
   ]
  },
  {
   "cell_type": "markdown",
   "metadata": {},
   "source": [
    "#### Impact of Number of Customers"
   ]
  },
  {
   "cell_type": "code",
   "execution_count": 63,
   "metadata": {},
   "outputs": [],
   "source": [
    "# sns.lmplot(x='beds', y='baths', data=df_combined, hue='proptype',fit_reg=False)\n"
   ]
  },
  {
   "cell_type": "code",
   "execution_count": 64,
   "metadata": {},
   "outputs": [],
   "source": [
    "# sns.lmplot(x='beds', y='baths', data=df_combined, hue='listprice',fit_reg=False)"
   ]
  },
  {
   "cell_type": "code",
   "execution_count": 65,
   "metadata": {
    "_cell_guid": "0190bc75-61b4-489f-bffd-71d40eed41b6",
    "_uuid": "56594318e444d4391d5cfb516eb8c955f6d11ea5"
   },
   "outputs": [],
   "source": [
    "# g = sns.FacetGrid(df_combined, col=\"proptype\")\n",
    "# g.map(plt.scatter, \"beds\", \"listprice\")"
   ]
  },
  {
   "cell_type": "markdown",
   "metadata": {
    "_cell_guid": "f8974e36-d25b-457c-baaa-88de595b76d8",
    "_uuid": "5b54e070f7cde4cf7b6f4e55da6b44289506aec7"
   },
   "source": [
    "## Property price Data Modeling"
   ]
  },
  {
   "cell_type": "markdown",
   "metadata": {},
   "source": [
    "Due to the regressive predictive nature of The pp Project, we decided to approach our model methodology with a Linear Regression base model with feature selection. Note: you can also consider Ridge regression to evaluate the effects of regularization on the predictive performance. "
   ]
  },
  {
   "cell_type": "markdown",
   "metadata": {},
   "source": [
    "### Linear Regression"
   ]
  },
  {
   "cell_type": "markdown",
   "metadata": {},
   "source": [
    "\n",
    "In the next section we will explore how different features affect overall score. You will be challenged to spot the differences and explain what given results mean."
   ]
  },
  {
   "cell_type": "markdown",
   "metadata": {},
   "source": [
    "#### Load libraries"
   ]
  },
  {
   "cell_type": "code",
   "execution_count": 66,
   "metadata": {},
   "outputs": [],
   "source": [
    "from sklearn import linear_model\n",
    "from sklearn.metrics import r2_score\n",
    "from sklearn.model_selection import train_test_split"
   ]
  },
  {
   "cell_type": "code",
   "execution_count": 67,
   "metadata": {},
   "outputs": [],
   "source": [
    "\n",
    "\n",
    "\n",
    "# create tagret (Sales) variable \n",
    "target =  df_combined['listprice']"
   ]
  },
  {
   "cell_type": "markdown",
   "metadata": {},
   "source": [
    "#### Linear Regression: *ver. 1*"
   ]
  },
  {
   "cell_type": "code",
   "execution_count": 68,
   "metadata": {},
   "outputs": [],
   "source": [
    "# Drop Sales and AvgPurchasing, but leave Customers\n",
    "drop_prices_df_combined =  df_combined.drop(['listprice'], axis=1)\n",
    "drop_prices_df_combined.columns\n",
    "\n",
    "# Split the data into train/test\n",
    "X_train, X_test, y_train, y_test = train_test_split(drop_prices_df_combined, target, test_size=0.33)\n",
    "\n"
   ]
  },
  {
   "cell_type": "code",
   "execution_count": 69,
   "metadata": {},
   "outputs": [
    {
     "data": {
      "text/plain": [
       "LinearRegression()"
      ]
     },
     "execution_count": 69,
     "metadata": {},
     "output_type": "execute_result"
    }
   ],
   "source": [
    "# Create linear regression object\n",
    "regr = linear_model.LinearRegression()\n",
    "# X_train\n",
    "#Train the model using the training sets\n",
    "regr.fit(X_train, y_train)\n"
   ]
  },
  {
   "cell_type": "code",
   "execution_count": 70,
   "metadata": {},
   "outputs": [
    {
     "name": "stdout",
     "output_type": "stream",
     "text": [
      "R2 score: 0.21\n"
     ]
    },
    {
     "data": {
      "text/plain": [
       "[<matplotlib.lines.Line2D at 0x14b364d30>]"
      ]
     },
     "execution_count": 70,
     "metadata": {},
     "output_type": "execute_result"
    },
    {
     "data": {
      "image/png": "[encoded data removed]",
      "text/plain": [
       "<Figure size 1440x360 with 1 Axes>"
      ]
     },
     "metadata": {
      "needs_background": "light"
     },
     "output_type": "display_data"
    }
   ],
   "source": [
    "\n",
    "# Make predictions using the testing set\n",
    "y_pred = regr.predict(X_test)\n",
    "\n",
    "# Explained variance score: 1 is perfect prediction\n",
    "print('R2 score: %.2f' % r2_score(y_test, y_pred))\n",
    "\n",
    "# Plot outputs\n",
    "plt.figure(figsize=(20, 5))\n",
    "\n",
    "plt.plot(y_test.values, color='red', linewidth=0.1)\n",
    "plt.plot(y_pred, color='blue', linewidth=0.1)"
   ]
  },
  {
   "cell_type": "markdown",
   "metadata": {},
   "source": [
    "### Tree Based Models"
   ]
  },
  {
   "cell_type": "markdown",
   "metadata": {},
   "source": [
    "It has been well established that bagging and other resampling techniques can be used to reduce the variance in model predictions. As several replicates of the original data set are created using random selection with replacement, at every step, each derivative data set is then used to construct a new model and the models are gathered together into an ensemble. To make a prediction, all of the models in the ensemble are polled and their results are averaged in the case of regression, which is our specific approach.\n",
    "\n",
    "As well, it has been well established that a powerful modeling algorithm that makes good use of bagging is Random Forests, which works by training numerous decision trees each based on a different resampling of the original training data. The random forest algorithm improves on bagging by training each tree on a random sample of the available features, to prevent each tree from choosing the same predictors.\n",
    "\n",
    "In Random Forests the bias of the full model is equivalent to the bias of a single decision tree, which itself has high variance. By creating many of these trees, a forest, and then averaging them, the variance of the final model can be greatly reduced over that of a single tree. In practice the only limitation we encountered on the size of the forest is computing time, as an infinite number of trees could be trained without ever increasing bias and with a continual - if asymptotically declining - decrease in the variance.\n",
    "\n",
    "It is for the aforementioned that we considered Random Forests as a Baseline Ensemble and its constituent, the Decision Tree Regressor as a baseline model as well."
   ]
  },
  {
   "cell_type": "markdown",
   "metadata": {},
   "source": [
    "### Decision Trees"
   ]
  },
  {
   "cell_type": "markdown",
   "metadata": {},
   "source": [
    "Decision trees were implemented as to evaluate the base consituent of the Random Forest ensemble. As per our research on previous models, Random Forest is a very good performance candidate for a baseline ensemble model for Rossmann.\n",
    "\n",
    "Decision Trees are also evaluated as a non-parametric baseline model, which enriches the comparative analysis of the Linear Regression Models.\n",
    "\n",
    "For fitting the decision tree model, we do not need to create dummy variables for categorical columns, since trees are able to make use of the factorized category values we created during data cleaning."
   ]
  },
  {
   "cell_type": "markdown",
   "metadata": {},
   "source": [
    "### Random Forest"
   ]
  },
  {
   "cell_type": "markdown",
   "metadata": {},
   "source": [
    "Next we considered Random Forest models. "
   ]
  },
  {
   "cell_type": "code",
   "execution_count": 71,
   "metadata": {},
   "outputs": [],
   "source": [
    "# Load libraries\n",
    "from sklearn.ensemble import RandomForestRegressor\n",
    "from sklearn.model_selection import GridSearchCV\n",
    "\n",
    "# from sklearn.model_selection import RandomizedSearchCV\n",
    "# from sklearn.model_selection import GridSearchCV\n",
    "# from sklearn.model_selection import train_test_split\n",
    "\n",
    "# Clean your data\n",
    "clean_df = df_combined.drop(['listprice'], axis=1)\n",
    "x_train, X_test, y_train, y_test = train_test_split(clean_df, target, test_size=0.33)"
   ]
  },
  {
   "cell_type": "code",
   "execution_count": 72,
   "metadata": {},
   "outputs": [],
   "source": [
    "def cv_optimize(clf, parameters, X, y, n_jobs=1, n_folds=5, score_func=None):\n",
    "    if score_func:\n",
    "        gs = GridSearchCV(clf, param_grid=parameters, cv=n_folds, n_jobs=n_jobs, scoring=score_func)\n",
    "    else:\n",
    "        gs = GridSearchCV(clf, param_grid=parameters, n_jobs=n_jobs, cv=n_folds)\n",
    "    gs.fit(X, y)\n",
    "\n",
    "    best = gs.best_estimator_\n",
    "    return best"
   ]
  },
  {
   "cell_type": "markdown",
   "metadata": {},
   "source": [
    "#### Parameter Tuning via CV GridSearch"
   ]
  },
  {
   "cell_type": "markdown",
   "metadata": {},
   "source": [
    "The paramters to be tuned are:\n",
    "\n",
    "- max_depth\n",
    "- n_estimartors\n",
    "- max_features\n",
    "- random_state"
   ]
  },
  {
   "cell_type": "markdown",
   "metadata": {},
   "source": [
    "IMPORTANT: This might take a while!!!"
   ]
  },
  {
   "cell_type": "code",
   "execution_count": 73,
   "metadata": {},
   "outputs": [],
   "source": [
    "#print(X_train)"
   ]
  },
  {
   "cell_type": "code",
   "execution_count": 74,
   "metadata": {},
   "outputs": [],
   "source": [
    "# tuning n_estimators\n",
    "parameters = {'max_depth': [8, 9, 10], # [1, 2, 3, 4, 5, 6, 7, 8, 9, 10], \n",
    "              'n_estimators': [10, 20, 30], # [ 10, 20, 30, 40, 50, 60, 70, 80, 90, 100]\n",
    "              'max_features': [None], # [None, 'auto', 'sqrt', 'log2']\n",
    "              'random_state': [10, 44], # [None, 10, 44, 100]\n",
    "}\n",
    "           \n",
    "rf = RandomForestRegressor(max_depth=1, random_state=10)\n",
    "optmized_rf_trees = cv_optimize(rf, parameters, x_train, y_train, n_jobs=-1, n_folds=5)"
   ]
  },
  {
   "cell_type": "code",
   "execution_count": 75,
   "metadata": {},
   "outputs": [
    {
     "name": "stdout",
     "output_type": "stream",
     "text": [
      "\n",
      "The tuned parameters in the RF w/ customers, via CV grid search are:\n",
      "\n",
      "Max tree depth: 10\n",
      "Number of Estimators 20\n",
      "Max Features: None\n",
      "Random State 44\n"
     ]
    }
   ],
   "source": [
    "print ('\\nThe tuned parameters in the RF w/ customers, via CV grid search are:\\n')\n",
    "print ('Max tree depth: {}\\nNumber of Estimators {}\\nMax Features: {}\\nRandom State {}'.\\\n",
    "                                                                     format(optmized_rf_trees.max_depth,\n",
    "                                                                     optmized_rf_trees.n_estimators,\n",
    "                                                                     optmized_rf_trees.max_features,\n",
    "                                                                     optmized_rf_trees.random_state)) "
   ]
  },
  {
   "cell_type": "markdown",
   "metadata": {},
   "source": [
    "###### Question 11"
   ]
  },
  {
   "cell_type": "code",
   "execution_count": 76,
   "metadata": {},
   "outputs": [],
   "source": [
    "#print(x_train)"
   ]
  },
  {
   "cell_type": "code",
   "execution_count": 77,
   "metadata": {},
   "outputs": [
    {
     "name": "stdout",
     "output_type": "stream",
     "text": [
      "          zip  beds  baths  sqft  proptype\n",
      "219647  01085     4    2.0     2         3\n",
      "223916  02110     3    4.0     4         1\n",
      "497041  02723     3    2.0     2         2\n",
      "382697  02631     3    2.0     2         3\n",
      "463773  01945     4    3.0     3         3\n",
      "...       ...   ...    ...   ...       ...\n",
      "179677  02659     3    2.0     2         3\n",
      "276790  01984     4    3.0     3         3\n",
      "482331  01840     7    2.0     2         2\n",
      "484708  01915     6    3.0     3         2\n",
      "367461  01775     2    2.0     2         3\n",
      "\n",
      "[344255 rows x 5 columns]\n",
      "R2 score: -0.21\n"
     ]
    },
    {
     "data": {
      "text/plain": [
       "[<matplotlib.lines.Line2D at 0x14e662d00>]"
      ]
     },
     "execution_count": 77,
     "metadata": {},
     "output_type": "execute_result"
    },
    {
     "data": {
      "image/png": "[encoded data removed]",
      "text/plain": [
       "<Figure size 1440x360 with 1 Axes>"
      ]
     },
     "metadata": {
      "needs_background": "light"
     },
     "output_type": "display_data"
    }
   ],
   "source": [
    "# YOUR CODE\n",
    "# Run RandomForestRegressor with best params\n",
    "# Elaborate about given R2 score\n",
    "\n",
    "rf = RandomForestRegressor(max_depth=10, n_estimators=50, random_state=10)\n",
    "print(x_train)\n",
    "rf_fit = rf.fit(x_train, y_train)\n",
    "score = rf_fit.score(X_test, y_test)\n",
    "\n",
    "# Explained variance score: 1 is perfect prediction\n",
    "print('R2 score: %.2f' % r2_score(y_test, y_pred))\n",
    "\n",
    "# Plot outputs\n",
    "plt.figure(figsize=(20, 5))\n",
    "\n",
    "plt.plot(y_test.values, color='red', linewidth=0.1)\n",
    "plt.plot(y_pred, color='blue', linewidth=0.1)"
   ]
  },
  {
   "cell_type": "markdown",
   "metadata": {},
   "source": [
    "###### Question 12"
   ]
  },
  {
   "cell_type": "markdown",
   "metadata": {},
   "source": [
    "#### What is the best model? ** Your answer: **"
   ]
  },
  {
   "cell_type": "code",
   "execution_count": null,
   "metadata": {},
   "outputs": [],
   "source": []
  },
  {
   "cell_type": "markdown",
   "metadata": {},
   "source": [
    "## Export models "
   ]
  },
  {
   "cell_type": "markdown",
   "metadata": {},
   "source": [
    "In our final step, we will choose the best model and explore some important prediction elements. Our app accepts features and gives predictions based on users inputs. Let us see what kind of data input is neccessarry (this is important for you to setup the proper input on the Flask side). "
   ]
  },
  {
   "cell_type": "markdown",
   "metadata": {},
   "source": [
    "For example, take one simple observation (we are using first data row):"
   ]
  },
  {
   "cell_type": "code",
   "execution_count": 78,
   "metadata": {},
   "outputs": [
    {
     "data": {
      "text/plain": [
       "zip         02360\n",
       "beds            5\n",
       "baths         3.0\n",
       "sqft            3\n",
       "proptype        3\n",
       "Name: 276404, dtype: object"
      ]
     },
     "execution_count": 78,
     "metadata": {},
     "output_type": "execute_result"
    }
   ],
   "source": [
    "# Print first row\n",
    "X_test.iloc[0]"
   ]
  },
  {
   "cell_type": "markdown",
   "metadata": {},
   "source": [
    "Predict based on your first row:"
   ]
  },
  {
   "cell_type": "code",
   "execution_count": 79,
   "metadata": {},
   "outputs": [
    {
     "data": {
      "text/plain": [
       "zip         01255\n",
       "beds            4\n",
       "baths         3.0\n",
       "sqft            3\n",
       "proptype        3\n",
       "Name: 260314, dtype: object"
      ]
     },
     "execution_count": 79,
     "metadata": {},
     "output_type": "execute_result"
    }
   ],
   "source": [
    "X_test.iloc[100]"
   ]
  },
  {
   "cell_type": "code",
   "execution_count": 80,
   "metadata": {},
   "outputs": [
    {
     "ename": "ValueError",
     "evalue": "X has 28 features, but RandomForestRegressor is expecting 5 features as input.",
     "output_type": "error",
     "traceback": [
      "\u001b[0;31m---------------------------------------------------------------------------\u001b[0m",
      "\u001b[0;31mValueError\u001b[0m                                Traceback (most recent call last)",
      "\u001b[0;32m/var/folders/b8/5dtlp9ks3612vbm34q0fxyv1d0nq_f/T/ipykernel_53920/1084244506.py\u001b[0m in \u001b[0;36m<module>\u001b[0;34m\u001b[0m\n\u001b[1;32m     29\u001b[0m \u001b[0;34m\u001b[0m\u001b[0m\n\u001b[1;32m     30\u001b[0m \u001b[0mpredict_model_array\u001b[0m \u001b[0;34m=\u001b[0m \u001b[0;34m[\u001b[0m\u001b[0mzipcode\u001b[0m\u001b[0;34m,\u001b[0m\u001b[0mbeds\u001b[0m\u001b[0;34m,\u001b[0m\u001b[0mbaths\u001b[0m\u001b[0;34m,\u001b[0m\u001b[0msqft\u001b[0m\u001b[0;34m,\u001b[0m\u001b[0mproptype\u001b[0m\u001b[0;34m,\u001b[0m\u001b[0mhasotherfeatures\u001b[0m\u001b[0;34m,\u001b[0m\u001b[0mhasproptype\u001b[0m\u001b[0;34m,\u001b[0m\u001b[0mhasstreetname\u001b[0m\u001b[0;34m,\u001b[0m\u001b[0mhashousenum1\u001b[0m\u001b[0;34m,\u001b[0m\u001b[0mhashousenum2\u001b[0m\u001b[0;34m,\u001b[0m\u001b[0mhasagentname\u001b[0m\u001b[0;34m,\u001b[0m\u001b[0mhasofficename\u001b[0m\u001b[0;34m,\u001b[0m\u001b[0mhasofficephone\u001b[0m\u001b[0;34m,\u001b[0m\u001b[0mhasshowinginstructions\u001b[0m\u001b[0;34m,\u001b[0m\u001b[0mhasstyle\u001b[0m\u001b[0;34m,\u001b[0m\u001b[0mhaslevel\u001b[0m\u001b[0;34m,\u001b[0m\u001b[0mhasgarage\u001b[0m\u001b[0;34m,\u001b[0m\u001b[0mhasheating\u001b[0m\u001b[0;34m,\u001b[0m\u001b[0mhascooling\u001b[0m\u001b[0;34m,\u001b[0m\u001b[0mhaselementaryschool\u001b[0m\u001b[0;34m,\u001b[0m\u001b[0mhasjuniorhighschool\u001b[0m\u001b[0;34m,\u001b[0m\u001b[0mhashighschool\u001b[0m\u001b[0;34m,\u001b[0m\u001b[0mhaslistprice\u001b[0m\u001b[0;34m,\u001b[0m\u001b[0mhaslistdate\u001b[0m\u001b[0;34m,\u001b[0m\u001b[0mhasaddress\u001b[0m\u001b[0;34m,\u001b[0m\u001b[0mhascity\u001b[0m\u001b[0;34m,\u001b[0m\u001b[0mhasstate\u001b[0m\u001b[0;34m,\u001b[0m\u001b[0mhasarea\u001b[0m\u001b[0;34m]\u001b[0m\u001b[0;34m\u001b[0m\u001b[0;34m\u001b[0m\u001b[0m\n\u001b[0;32m---> 31\u001b[0;31m \u001b[0mrf\u001b[0m\u001b[0;34m.\u001b[0m\u001b[0mpredict\u001b[0m\u001b[0;34m(\u001b[0m\u001b[0mnp\u001b[0m\u001b[0;34m.\u001b[0m\u001b[0marray\u001b[0m\u001b[0;34m(\u001b[0m\u001b[0mpredict_model_array\u001b[0m\u001b[0;34m)\u001b[0m\u001b[0;34m.\u001b[0m\u001b[0mreshape\u001b[0m\u001b[0;34m(\u001b[0m\u001b[0;36m1\u001b[0m\u001b[0;34m,\u001b[0m \u001b[0;34m-\u001b[0m\u001b[0;36m1\u001b[0m\u001b[0;34m)\u001b[0m\u001b[0;34m)\u001b[0m\u001b[0;34m\u001b[0m\u001b[0;34m\u001b[0m\u001b[0m\n\u001b[0m",
      "\u001b[0;32m~/.local/share/virtualenvs/pp-sandbox-KSKYKDwW/lib/python3.8/site-packages/sklearn/ensemble/_forest.py\u001b[0m in \u001b[0;36mpredict\u001b[0;34m(self, X)\u001b[0m\n\u001b[1;32m    959\u001b[0m         \u001b[0mcheck_is_fitted\u001b[0m\u001b[0;34m(\u001b[0m\u001b[0mself\u001b[0m\u001b[0;34m)\u001b[0m\u001b[0;34m\u001b[0m\u001b[0;34m\u001b[0m\u001b[0m\n\u001b[1;32m    960\u001b[0m         \u001b[0;31m# Check data\u001b[0m\u001b[0;34m\u001b[0m\u001b[0;34m\u001b[0m\u001b[0;34m\u001b[0m\u001b[0m\n\u001b[0;32m--> 961\u001b[0;31m         \u001b[0mX\u001b[0m \u001b[0;34m=\u001b[0m \u001b[0mself\u001b[0m\u001b[0;34m.\u001b[0m\u001b[0m_validate_X_predict\u001b[0m\u001b[0;34m(\u001b[0m\u001b[0mX\u001b[0m\u001b[0;34m)\u001b[0m\u001b[0;34m\u001b[0m\u001b[0;34m\u001b[0m\u001b[0m\n\u001b[0m\u001b[1;32m    962\u001b[0m \u001b[0;34m\u001b[0m\u001b[0m\n\u001b[1;32m    963\u001b[0m         \u001b[0;31m# Assign chunk of trees to jobs\u001b[0m\u001b[0;34m\u001b[0m\u001b[0;34m\u001b[0m\u001b[0;34m\u001b[0m\u001b[0m\n",
      "\u001b[0;32m~/.local/share/virtualenvs/pp-sandbox-KSKYKDwW/lib/python3.8/site-packages/sklearn/ensemble/_forest.py\u001b[0m in \u001b[0;36m_validate_X_predict\u001b[0;34m(self, X)\u001b[0m\n\u001b[1;32m    567\u001b[0m         Validate X whenever one tries to predict, apply, predict_proba.\"\"\"\n\u001b[1;32m    568\u001b[0m         \u001b[0mcheck_is_fitted\u001b[0m\u001b[0;34m(\u001b[0m\u001b[0mself\u001b[0m\u001b[0;34m)\u001b[0m\u001b[0;34m\u001b[0m\u001b[0;34m\u001b[0m\u001b[0m\n\u001b[0;32m--> 569\u001b[0;31m         \u001b[0mX\u001b[0m \u001b[0;34m=\u001b[0m \u001b[0mself\u001b[0m\u001b[0;34m.\u001b[0m\u001b[0m_validate_data\u001b[0m\u001b[0;34m(\u001b[0m\u001b[0mX\u001b[0m\u001b[0;34m,\u001b[0m \u001b[0mdtype\u001b[0m\u001b[0;34m=\u001b[0m\u001b[0mDTYPE\u001b[0m\u001b[0;34m,\u001b[0m \u001b[0maccept_sparse\u001b[0m\u001b[0;34m=\u001b[0m\u001b[0;34m\"csr\"\u001b[0m\u001b[0;34m,\u001b[0m \u001b[0mreset\u001b[0m\u001b[0;34m=\u001b[0m\u001b[0;32mFalse\u001b[0m\u001b[0;34m)\u001b[0m\u001b[0;34m\u001b[0m\u001b[0;34m\u001b[0m\u001b[0m\n\u001b[0m\u001b[1;32m    570\u001b[0m         \u001b[0;32mif\u001b[0m \u001b[0missparse\u001b[0m\u001b[0;34m(\u001b[0m\u001b[0mX\u001b[0m\u001b[0;34m)\u001b[0m \u001b[0;32mand\u001b[0m \u001b[0;34m(\u001b[0m\u001b[0mX\u001b[0m\u001b[0;34m.\u001b[0m\u001b[0mindices\u001b[0m\u001b[0;34m.\u001b[0m\u001b[0mdtype\u001b[0m \u001b[0;34m!=\u001b[0m \u001b[0mnp\u001b[0m\u001b[0;34m.\u001b[0m\u001b[0mintc\u001b[0m \u001b[0;32mor\u001b[0m \u001b[0mX\u001b[0m\u001b[0;34m.\u001b[0m\u001b[0mindptr\u001b[0m\u001b[0;34m.\u001b[0m\u001b[0mdtype\u001b[0m \u001b[0;34m!=\u001b[0m \u001b[0mnp\u001b[0m\u001b[0;34m.\u001b[0m\u001b[0mintc\u001b[0m\u001b[0;34m)\u001b[0m\u001b[0;34m:\u001b[0m\u001b[0;34m\u001b[0m\u001b[0;34m\u001b[0m\u001b[0m\n\u001b[1;32m    571\u001b[0m             \u001b[0;32mraise\u001b[0m \u001b[0mValueError\u001b[0m\u001b[0;34m(\u001b[0m\u001b[0;34m\"No support for np.int64 index based sparse matrices\"\u001b[0m\u001b[0;34m)\u001b[0m\u001b[0;34m\u001b[0m\u001b[0;34m\u001b[0m\u001b[0m\n",
      "\u001b[0;32m~/.local/share/virtualenvs/pp-sandbox-KSKYKDwW/lib/python3.8/site-packages/sklearn/base.py\u001b[0m in \u001b[0;36m_validate_data\u001b[0;34m(self, X, y, reset, validate_separately, **check_params)\u001b[0m\n\u001b[1;32m    578\u001b[0m \u001b[0;34m\u001b[0m\u001b[0m\n\u001b[1;32m    579\u001b[0m         \u001b[0;32mif\u001b[0m \u001b[0;32mnot\u001b[0m \u001b[0mno_val_X\u001b[0m \u001b[0;32mand\u001b[0m \u001b[0mcheck_params\u001b[0m\u001b[0;34m.\u001b[0m\u001b[0mget\u001b[0m\u001b[0;34m(\u001b[0m\u001b[0;34m\"ensure_2d\"\u001b[0m\u001b[0;34m,\u001b[0m \u001b[0;32mTrue\u001b[0m\u001b[0;34m)\u001b[0m\u001b[0;34m:\u001b[0m\u001b[0;34m\u001b[0m\u001b[0;34m\u001b[0m\u001b[0m\n\u001b[0;32m--> 580\u001b[0;31m             \u001b[0mself\u001b[0m\u001b[0;34m.\u001b[0m\u001b[0m_check_n_features\u001b[0m\u001b[0;34m(\u001b[0m\u001b[0mX\u001b[0m\u001b[0;34m,\u001b[0m \u001b[0mreset\u001b[0m\u001b[0;34m=\u001b[0m\u001b[0mreset\u001b[0m\u001b[0;34m)\u001b[0m\u001b[0;34m\u001b[0m\u001b[0;34m\u001b[0m\u001b[0m\n\u001b[0m\u001b[1;32m    581\u001b[0m \u001b[0;34m\u001b[0m\u001b[0m\n\u001b[1;32m    582\u001b[0m         \u001b[0;32mreturn\u001b[0m \u001b[0mout\u001b[0m\u001b[0;34m\u001b[0m\u001b[0;34m\u001b[0m\u001b[0m\n",
      "\u001b[0;32m~/.local/share/virtualenvs/pp-sandbox-KSKYKDwW/lib/python3.8/site-packages/sklearn/base.py\u001b[0m in \u001b[0;36m_check_n_features\u001b[0;34m(self, X, reset)\u001b[0m\n\u001b[1;32m    393\u001b[0m \u001b[0;34m\u001b[0m\u001b[0m\n\u001b[1;32m    394\u001b[0m         \u001b[0;32mif\u001b[0m \u001b[0mn_features\u001b[0m \u001b[0;34m!=\u001b[0m \u001b[0mself\u001b[0m\u001b[0;34m.\u001b[0m\u001b[0mn_features_in_\u001b[0m\u001b[0;34m:\u001b[0m\u001b[0;34m\u001b[0m\u001b[0;34m\u001b[0m\u001b[0m\n\u001b[0;32m--> 395\u001b[0;31m             raise ValueError(\n\u001b[0m\u001b[1;32m    396\u001b[0m                 \u001b[0;34mf\"X has {n_features} features, but {self.__class__.__name__} \"\u001b[0m\u001b[0;34m\u001b[0m\u001b[0;34m\u001b[0m\u001b[0m\n\u001b[1;32m    397\u001b[0m                 \u001b[0;34mf\"is expecting {self.n_features_in_} features as input.\"\u001b[0m\u001b[0;34m\u001b[0m\u001b[0;34m\u001b[0m\u001b[0m\n",
      "\u001b[0;31mValueError\u001b[0m: X has 28 features, but RandomForestRegressor is expecting 5 features as input."
     ]
    }
   ],
   "source": [
    "zipcode = 2053\n",
    "beds = 3\n",
    "baths = 2.0\n",
    "sqft = 2\n",
    "proptype = 1\n",
    "hasotherfeatures = 1\n",
    "hasproptype = 1\n",
    "hasstreetname = 1\n",
    "hashousenum1 = 0\n",
    "hashousenum2 = 1\n",
    "hasagentname = 1\n",
    "hasofficename = 1\n",
    "hasofficephone = 1\n",
    "hasshowinginstructions = 1\n",
    "hasstyle = 1\n",
    "haslevel = 1\n",
    "hasgarage = 1\n",
    "hasheating = 1\n",
    "hascooling = 0\n",
    "haselementaryschool = 0\n",
    "hasjuniorhighschool = 0\n",
    "hashighschool = 0\n",
    "haslistprice = 1\n",
    "haslistdate = 0\n",
    "hasaddress = 1\n",
    "hascity = 1\n",
    "hasstate = 1\n",
    "hasarea = 1\n",
    "\n",
    "predict_model_array = [zipcode,beds,baths,sqft,proptype,hasotherfeatures,hasproptype,hasstreetname,hashousenum1,hashousenum2,hasagentname,hasofficename,hasofficephone,hasshowinginstructions,hasstyle,haslevel,hasgarage,hasheating,hascooling,haselementaryschool,hasjuniorhighschool,hashighschool,haslistprice,haslistdate,hasaddress,hascity,hasstate,hasarea]\n",
    "rf.predict(np.array(predict_model_array).reshape(1, -1))"
   ]
  },
  {
   "cell_type": "code",
   "execution_count": null,
   "metadata": {},
   "outputs": [],
   "source": [
    "# Test for your app\n",
    "rf.predict(np.array(X_test.iloc[0].values.reshape(1, -1)))"
   ]
  },
  {
   "cell_type": "markdown",
   "metadata": {},
   "source": [
    "Similar to the above line:"
   ]
  },
  {
   "cell_type": "code",
   "execution_count": null,
   "metadata": {},
   "outputs": [],
   "source": [
    "rf.predict(np.array([ 2053,3, 2.0,2,1,1, 1, 1,0,1,1,1, 1,1,1,1,1,1, 0,0,0,0,1,0,1,1,1,1]).reshape(1, -1))"
   ]
  },
  {
   "cell_type": "markdown",
   "metadata": {},
   "source": [
    "We can conclude that your input needs to be **numpy array**. Now, we can export pur model and get ready for the second part of the homework."
   ]
  },
  {
   "cell_type": "code",
   "execution_count": 501,
   "metadata": {},
   "outputs": [
    {
     "data": {
      "text/plain": [
       "['pp-model.pkl']"
      ]
     },
     "execution_count": 501,
     "metadata": {},
     "output_type": "execute_result"
    }
   ],
   "source": [
    "import joblib\n",
    "joblib.dump(rf, 'pp-model.pkl')"
   ]
  }
 ],
 "metadata": {
  "anaconda-cloud": {},
  "kernelspec": {
   "display_name": "Python 3 (ipykernel)",
   "language": "python",
   "name": "python3"
  },
  "language_info": {
   "codemirror_mode": {
    "name": "ipython",
    "version": 3
   },
   "file_extension": ".py",
   "mimetype": "text/x-python",
   "name": "python",
   "nbconvert_exporter": "python",
   "pygments_lexer": "ipython3",
   "version": "3.8.12"
  }
 },
 "nbformat": 4,
 "nbformat_minor": 1
}
